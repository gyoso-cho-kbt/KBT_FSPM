{
 "cells": [
  {
   "cell_type": "code",
   "execution_count": 4,
   "id": "b5ffdcc2-f39f-401f-841d-6682631e3f0d",
   "metadata": {},
   "outputs": [],
   "source": [
    "from alinea.adel.adel_dynamic import AdelDyn\n",
    "from openalea.plantgl.all import Viewer, Scene\n",
    "from openalea.mtg import MTG\n",
    "import os\n",
    "from alinea.adel.geometric_elements import Leaves\n",
    "from alinea.adel.newmtg import internode_elements, sheath_elements, blade_elements, convert, properties_from_dict, adel_metamer\n",
    "import pandas as pd"
   ]
  },
  {
   "cell_type": "code",
   "execution_count": 6,
   "id": "307863c4-19f8-4ffb-94da-37ec872088af",
   "metadata": {},
   "outputs": [],
   "source": [
    "INPUTS_DIRPATH = 'inputs'\n",
    "\n",
    "# Create AdelDyn object and empty mtg\n",
    "adel_wheat = AdelDyn()\n",
    "axeT_df = pd.read_csv(os.path.join(INPUTS_DIRPATH, 'axeTable.csv'))\n",
    "\n",
    "# mtg\n",
    "g = adel_wheat.build_stand(axeT_df)"
   ]
  },
  {
   "cell_type": "code",
   "execution_count": 7,
   "id": "477ef43d-1db6-4925-9e6b-e4d4e762ebbc",
   "metadata": {},
   "outputs": [
    {
     "name": "stdout",
     "output_type": "stream",
     "text": [
      "MTG : nb_vertices=7, nb_scales=6\n",
      "/plant1\t\t\t(id=1)\t\t\t\t\t\t\t\t\t\t\t\n",
      "^/MS\t\t\t(id=2)\t\t\t\t\t\t\t\t\t\t\t\n",
      "^/metamer0\t\t\t(id=3)\t\t\t\t\t\t\t\t\t\t\t\n",
      "^/collar\t\t\t(id=4)\t\t\t\t\t\t\t\t\t\t\t\n",
      "^/baseElement\t\t\t(id=5)\t\t\t\t\t\t\t\t\t\t\t\n",
      "^<topElement\t\t\t(id=6)\t\t\t\t\t\t\t\t\t\t\t\n"
     ]
    }
   ],
   "source": [
    "g.display()"
   ]
  }
 ],
 "metadata": {
  "kernelspec": {
   "display_name": "WheatFspm",
   "language": "python",
   "name": "wheatfspm"
  },
  "language_info": {
   "codemirror_mode": {
    "name": "ipython",
    "version": 3
   },
   "file_extension": ".py",
   "mimetype": "text/x-python",
   "name": "python",
   "nbconvert_exporter": "python",
   "pygments_lexer": "ipython3",
   "version": "3.7.12"
  }
 },
 "nbformat": 4,
 "nbformat_minor": 5
}
