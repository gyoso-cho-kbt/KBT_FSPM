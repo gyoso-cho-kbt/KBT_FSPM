{
 "cells": [
  {
   "cell_type": "code",
   "execution_count": 91,
   "id": "b5ffdcc2-f39f-401f-841d-6682631e3f0d",
   "metadata": {},
   "outputs": [],
   "source": [
    "from alinea.adel.adel_dynamic import AdelDyn\n",
    "from alinea.adel.mtg_editions import find_metamers, add_plant, add_vegetative_metamer, new_mtg_factory, update_organ_elements, add_axe\n",
    "from alinea.adel.mtg_interpreter import mtg_interpreter, transform_geom\n",
    "\n",
    "from openalea.plantgl.all import Viewer, Scene\n",
    "from openalea.mtg import MTG\n",
    "from alinea.adel.geometric_elements import Leaves\n",
    "from alinea.adel.newmtg import internode_elements, sheath_elements, blade_elements, convert, properties_from_dict, adel_metamer\n",
    "import pandas as pd\n",
    "\n",
    "import os\n",
    "import random\n",
    "import warnings\n",
    "import sys\n",
    "\n",
    "import matplotlib.pyplot as plt\n",
    "import numpy as np\n",
    "import pandas as pd\n",
    "from alinea.adel.Stand import AgronomicStand\n",
    "from alinea.adel.echap_leaf import echap_leaves\n",
    "from fspmwheat import caribu_facade\n",
    "from fspmwheat import cnwheat_facade\n",
    "from fspmwheat import elongwheat_facade\n",
    "from fspmwheat import farquharwheat_facade\n",
    "from fspmwheat import fspmwheat_facade\n",
    "from fspmwheat import growthwheat_facade\n",
    "from fspmwheat import senescwheat_facade"
   ]
  },
  {
   "cell_type": "code",
   "execution_count": 92,
   "id": "1d240390-7163-4ba1-986d-138bb0a063c0",
   "metadata": {},
   "outputs": [],
   "source": [
    "PLANT_DENSITY = {1: 250.}\n",
    "INTER_ROW = 0.15\n",
    "INPUTS_DIRPATH = r'C:\\Users\\gyoso.cho.TIRD\\source\\WheatFspm\\WheatFspm\\fspm-wheat\\example\\test_run\\Scenarios_monoculms\\outputs'\n",
    "# Create the stand using density pattern\n",
    "stand = AgronomicStand(sowing_density=PLANT_DENSITY[1], plant_density=PLANT_DENSITY[1], inter_row=INTER_ROW, noise=0.)\n",
    "# Create AdelDyn object and empty mtg\n",
    "adel_wheat = AdelDyn(seed=1, scene_unit='m', leaves=echap_leaves(xy_model='Soissons_byleafclass', top_leaves=0), stand=stand)\n",
    "g = adel_wheat.load(dir=INPUTS_DIRPATH)"
   ]
  },
  {
   "cell_type": "code",
   "execution_count": 42,
   "id": "1d00a209-ad55-4e22-b8b8-57603d2c56a4",
   "metadata": {
    "collapsed": true,
    "jupyter": {
     "outputs_hidden": true
    },
    "tags": []
   },
   "outputs": [
    {
     "name": "stdout",
     "output_type": "stream",
     "text": [
      "MTG : nb_vertices=178, nb_scales=6\n",
      "/plant1\t\t\t(id=1)\t\t\t\t\t\t\t\t\t\t\t\n",
      "^/MS\t\t\t(id=2)\t\t\t\t\t\t\t\t\t\t\t\n",
      "^/metamer0\t\t\t(id=3)\t\t\t\t\t\t\t\t\t\t\t\n",
      "^/collar\t\t\t(id=4)\t\t\t\t\t\t\t\t\t\t\t\n",
      "^/baseElement\t\t\t(id=5)\t\t\t\t\t\t\t\t\t\t\t\n",
      "^<topElement\t\t\t(id=6)\t\t\t\t\t\t\t\t\t\t\t\n",
      "^<metamer1\t\t\t(id=7)\t\t\t\t\t\t\t\t\t\t\t\n",
      "^/internode\t\t\t(id=8)\t\t\t\t\t\t\t\t\t\t\t\n",
      "^/baseElement\t\t\t(id=9)\t\t\t\t\t\t\t\t\t\t\t\n",
      "^<HiddenElement\t\t\t(id=108)\t\t\t\t\t\t\t\t\t\t\t\n",
      "^<StemElement\t\t\t(id=107)\t\t\t\t\t\t\t\t\t\t\t\n",
      "^<topElement\t\t\t(id=10)\t\t\t\t\t\t\t\t\t\t\t\n",
      "\t+sheath\t\t\t(id=11)\t\t\t\t\t\t\t\t\t\t\n",
      "\t^/baseElement\t\t\t(id=12)\t\t\t\t\t\t\t\t\t\t\n",
      "\t^<HiddenElement\t\t\t(id=110)\t\t\t\t\t\t\t\t\t\t\n",
      "\t^<StemElement\t\t\t(id=109)\t\t\t\t\t\t\t\t\t\t\n",
      "\t^<topElement\t\t\t(id=13)\t\t\t\t\t\t\t\t\t\t\n",
      "\t^<blade\t\t\t(id=14)\t\t\t\t\t\t\t\t\t\t\n",
      "\t^/baseElement\t\t\t(id=15)\t\t\t\t\t\t\t\t\t\t\n",
      "\t^<HiddenElement\t\t\t(id=111)\t\t\t\t\t\t\t\t\t\t\n",
      "\t^<LeafElement1\t\t\t(id=157)\t\t\t\t\t\t\t\t\t\t\n",
      "\t^<topElement\t\t\t(id=16)\t\t\t\t\t\t\t\t\t\t\n",
      "^<metamer2\t\t\t(id=17)\t\t\t\t\t\t\t\t\t\t\t\n",
      "^/internode\t\t\t(id=18)\t\t\t\t\t\t\t\t\t\t\t\n",
      "^/baseElement\t\t\t(id=19)\t\t\t\t\t\t\t\t\t\t\t\n",
      "^<HiddenElement\t\t\t(id=113)\t\t\t\t\t\t\t\t\t\t\t\n",
      "^<StemElement\t\t\t(id=112)\t\t\t\t\t\t\t\t\t\t\t\n",
      "^<topElement\t\t\t(id=20)\t\t\t\t\t\t\t\t\t\t\t\n",
      "\t+sheath\t\t\t(id=21)\t\t\t\t\t\t\t\t\t\t\n",
      "\t^/baseElement\t\t\t(id=22)\t\t\t\t\t\t\t\t\t\t\n",
      "\t^<HiddenElement\t\t\t(id=115)\t\t\t\t\t\t\t\t\t\t\n",
      "\t^<StemElement\t\t\t(id=114)\t\t\t\t\t\t\t\t\t\t\n",
      "\t^<topElement\t\t\t(id=23)\t\t\t\t\t\t\t\t\t\t\n",
      "\t^<blade\t\t\t(id=24)\t\t\t\t\t\t\t\t\t\t\n",
      "\t^/baseElement\t\t\t(id=25)\t\t\t\t\t\t\t\t\t\t\n",
      "\t^<HiddenElement\t\t\t(id=116)\t\t\t\t\t\t\t\t\t\t\n",
      "\t^<LeafElement1\t\t\t(id=158)\t\t\t\t\t\t\t\t\t\t\n",
      "\t^<topElement\t\t\t(id=26)\t\t\t\t\t\t\t\t\t\t\n",
      "^<metamer3\t\t\t(id=27)\t\t\t\t\t\t\t\t\t\t\t\n",
      "^/internode\t\t\t(id=28)\t\t\t\t\t\t\t\t\t\t\t\n",
      "^/baseElement\t\t\t(id=29)\t\t\t\t\t\t\t\t\t\t\t\n",
      "^<HiddenElement\t\t\t(id=118)\t\t\t\t\t\t\t\t\t\t\t\n",
      "^<StemElement\t\t\t(id=117)\t\t\t\t\t\t\t\t\t\t\t\n",
      "^<topElement\t\t\t(id=30)\t\t\t\t\t\t\t\t\t\t\t\n",
      "\t+sheath\t\t\t(id=31)\t\t\t\t\t\t\t\t\t\t\n",
      "\t^/baseElement\t\t\t(id=32)\t\t\t\t\t\t\t\t\t\t\n",
      "\t^<HiddenElement\t\t\t(id=120)\t\t\t\t\t\t\t\t\t\t\n",
      "\t^<StemElement\t\t\t(id=119)\t\t\t\t\t\t\t\t\t\t\n",
      "\t^<topElement\t\t\t(id=33)\t\t\t\t\t\t\t\t\t\t\n",
      "\t^<blade\t\t\t(id=34)\t\t\t\t\t\t\t\t\t\t\n",
      "\t^/baseElement\t\t\t(id=35)\t\t\t\t\t\t\t\t\t\t\n",
      "\t^<HiddenElement\t\t\t(id=121)\t\t\t\t\t\t\t\t\t\t\n",
      "\t^<LeafElement1\t\t\t(id=159)\t\t\t\t\t\t\t\t\t\t\n",
      "\t^<topElement\t\t\t(id=36)\t\t\t\t\t\t\t\t\t\t\n",
      "^<metamer4\t\t\t(id=37)\t\t\t\t\t\t\t\t\t\t\t\n",
      "^/internode\t\t\t(id=38)\t\t\t\t\t\t\t\t\t\t\t\n",
      "^/baseElement\t\t\t(id=39)\t\t\t\t\t\t\t\t\t\t\t\n",
      "^<HiddenElement\t\t\t(id=123)\t\t\t\t\t\t\t\t\t\t\t\n",
      "^<StemElement\t\t\t(id=122)\t\t\t\t\t\t\t\t\t\t\t\n",
      "^<topElement\t\t\t(id=40)\t\t\t\t\t\t\t\t\t\t\t\n",
      "\t+sheath\t\t\t(id=41)\t\t\t\t\t\t\t\t\t\t\n",
      "\t^/baseElement\t\t\t(id=42)\t\t\t\t\t\t\t\t\t\t\n",
      "\t^<HiddenElement\t\t\t(id=125)\t\t\t\t\t\t\t\t\t\t\n",
      "\t^<StemElement\t\t\t(id=124)\t\t\t\t\t\t\t\t\t\t\n",
      "\t^<topElement\t\t\t(id=43)\t\t\t\t\t\t\t\t\t\t\n",
      "\t^<blade\t\t\t(id=44)\t\t\t\t\t\t\t\t\t\t\n",
      "\t^/baseElement\t\t\t(id=45)\t\t\t\t\t\t\t\t\t\t\n",
      "\t^<HiddenElement\t\t\t(id=126)\t\t\t\t\t\t\t\t\t\t\n",
      "\t^<LeafElement1\t\t\t(id=160)\t\t\t\t\t\t\t\t\t\t\n",
      "\t^<topElement\t\t\t(id=46)\t\t\t\t\t\t\t\t\t\t\n",
      "^<metamer5\t\t\t(id=47)\t\t\t\t\t\t\t\t\t\t\t\n",
      "^/internode\t\t\t(id=48)\t\t\t\t\t\t\t\t\t\t\t\n",
      "^/baseElement\t\t\t(id=49)\t\t\t\t\t\t\t\t\t\t\t\n",
      "^<HiddenElement\t\t\t(id=128)\t\t\t\t\t\t\t\t\t\t\t\n",
      "^<StemElement\t\t\t(id=127)\t\t\t\t\t\t\t\t\t\t\t\n",
      "^<topElement\t\t\t(id=50)\t\t\t\t\t\t\t\t\t\t\t\n",
      "\t+sheath\t\t\t(id=51)\t\t\t\t\t\t\t\t\t\t\n",
      "\t^/baseElement\t\t\t(id=52)\t\t\t\t\t\t\t\t\t\t\n",
      "\t^<HiddenElement\t\t\t(id=130)\t\t\t\t\t\t\t\t\t\t\n",
      "\t^<StemElement\t\t\t(id=129)\t\t\t\t\t\t\t\t\t\t\n",
      "\t^<topElement\t\t\t(id=53)\t\t\t\t\t\t\t\t\t\t\n",
      "\t^<blade\t\t\t(id=54)\t\t\t\t\t\t\t\t\t\t\n",
      "\t^/baseElement\t\t\t(id=55)\t\t\t\t\t\t\t\t\t\t\n",
      "\t^<HiddenElement\t\t\t(id=131)\t\t\t\t\t\t\t\t\t\t\n",
      "\t^<LeafElement1\t\t\t(id=176)\t\t\t\t\t\t\t\t\t\t\n",
      "\t^<topElement\t\t\t(id=56)\t\t\t\t\t\t\t\t\t\t\n",
      "^<metamer6\t\t\t(id=57)\t\t\t\t\t\t\t\t\t\t\t\n",
      "^/internode\t\t\t(id=58)\t\t\t\t\t\t\t\t\t\t\t\n",
      "^/baseElement\t\t\t(id=59)\t\t\t\t\t\t\t\t\t\t\t\n",
      "^<HiddenElement\t\t\t(id=133)\t\t\t\t\t\t\t\t\t\t\t\n",
      "^<StemElement\t\t\t(id=132)\t\t\t\t\t\t\t\t\t\t\t\n",
      "^<topElement\t\t\t(id=60)\t\t\t\t\t\t\t\t\t\t\t\n",
      "\t+sheath\t\t\t(id=61)\t\t\t\t\t\t\t\t\t\t\n",
      "\t^/baseElement\t\t\t(id=62)\t\t\t\t\t\t\t\t\t\t\n",
      "\t^<HiddenElement\t\t\t(id=135)\t\t\t\t\t\t\t\t\t\t\n",
      "\t^<StemElement\t\t\t(id=134)\t\t\t\t\t\t\t\t\t\t\n",
      "\t^<topElement\t\t\t(id=63)\t\t\t\t\t\t\t\t\t\t\n",
      "\t^<blade\t\t\t(id=64)\t\t\t\t\t\t\t\t\t\t\n",
      "\t^/baseElement\t\t\t(id=65)\t\t\t\t\t\t\t\t\t\t\n",
      "\t^<HiddenElement\t\t\t(id=136)\t\t\t\t\t\t\t\t\t\t\n",
      "\t^<LeafElement1\t\t\t(id=177)\t\t\t\t\t\t\t\t\t\t\n",
      "\t^<topElement\t\t\t(id=66)\t\t\t\t\t\t\t\t\t\t\n",
      "^<metamer7\t\t\t(id=67)\t\t\t\t\t\t\t\t\t\t\t\n",
      "^/internode\t\t\t(id=68)\t\t\t\t\t\t\t\t\t\t\t\n",
      "^/baseElement\t\t\t(id=69)\t\t\t\t\t\t\t\t\t\t\t\n",
      "^<HiddenElement\t\t\t(id=138)\t\t\t\t\t\t\t\t\t\t\t\n",
      "^<StemElement\t\t\t(id=137)\t\t\t\t\t\t\t\t\t\t\t\n",
      "^<topElement\t\t\t(id=70)\t\t\t\t\t\t\t\t\t\t\t\n",
      "\t+sheath\t\t\t(id=71)\t\t\t\t\t\t\t\t\t\t\n",
      "\t^/baseElement\t\t\t(id=72)\t\t\t\t\t\t\t\t\t\t\n",
      "\t^<HiddenElement\t\t\t(id=140)\t\t\t\t\t\t\t\t\t\t\n",
      "\t^<StemElement\t\t\t(id=139)\t\t\t\t\t\t\t\t\t\t\n",
      "\t^<topElement\t\t\t(id=73)\t\t\t\t\t\t\t\t\t\t\n",
      "\t^<blade\t\t\t(id=74)\t\t\t\t\t\t\t\t\t\t\n",
      "\t^/baseElement\t\t\t(id=75)\t\t\t\t\t\t\t\t\t\t\n",
      "\t^<HiddenElement\t\t\t(id=141)\t\t\t\t\t\t\t\t\t\t\n",
      "\t^<topElement\t\t\t(id=76)\t\t\t\t\t\t\t\t\t\t\n",
      "^<metamer8\t\t\t(id=77)\t\t\t\t\t\t\t\t\t\t\t\n",
      "^/internode\t\t\t(id=78)\t\t\t\t\t\t\t\t\t\t\t\n",
      "^/baseElement\t\t\t(id=79)\t\t\t\t\t\t\t\t\t\t\t\n",
      "^<HiddenElement\t\t\t(id=143)\t\t\t\t\t\t\t\t\t\t\t\n",
      "^<StemElement\t\t\t(id=142)\t\t\t\t\t\t\t\t\t\t\t\n",
      "^<topElement\t\t\t(id=80)\t\t\t\t\t\t\t\t\t\t\t\n",
      "\t+sheath\t\t\t(id=81)\t\t\t\t\t\t\t\t\t\t\n",
      "\t^/baseElement\t\t\t(id=82)\t\t\t\t\t\t\t\t\t\t\n",
      "\t^<HiddenElement\t\t\t(id=145)\t\t\t\t\t\t\t\t\t\t\n",
      "\t^<StemElement\t\t\t(id=144)\t\t\t\t\t\t\t\t\t\t\n",
      "\t^<topElement\t\t\t(id=83)\t\t\t\t\t\t\t\t\t\t\n",
      "\t^<blade\t\t\t(id=84)\t\t\t\t\t\t\t\t\t\t\n",
      "\t^/baseElement\t\t\t(id=85)\t\t\t\t\t\t\t\t\t\t\n",
      "\t^<HiddenElement\t\t\t(id=146)\t\t\t\t\t\t\t\t\t\t\n",
      "\t^<topElement\t\t\t(id=86)\t\t\t\t\t\t\t\t\t\t\n",
      "^<metamer9\t\t\t(id=87)\t\t\t\t\t\t\t\t\t\t\t\n",
      "^/internode\t\t\t(id=88)\t\t\t\t\t\t\t\t\t\t\t\n",
      "^/baseElement\t\t\t(id=89)\t\t\t\t\t\t\t\t\t\t\t\n",
      "^<HiddenElement\t\t\t(id=148)\t\t\t\t\t\t\t\t\t\t\t\n",
      "^<StemElement\t\t\t(id=147)\t\t\t\t\t\t\t\t\t\t\t\n",
      "^<topElement\t\t\t(id=90)\t\t\t\t\t\t\t\t\t\t\t\n",
      "\t+sheath\t\t\t(id=91)\t\t\t\t\t\t\t\t\t\t\n",
      "\t^/baseElement\t\t\t(id=92)\t\t\t\t\t\t\t\t\t\t\n",
      "\t^<HiddenElement\t\t\t(id=150)\t\t\t\t\t\t\t\t\t\t\n",
      "\t^<StemElement\t\t\t(id=149)\t\t\t\t\t\t\t\t\t\t\n",
      "\t^<topElement\t\t\t(id=93)\t\t\t\t\t\t\t\t\t\t\n",
      "\t^<blade\t\t\t(id=94)\t\t\t\t\t\t\t\t\t\t\n",
      "\t^/baseElement\t\t\t(id=95)\t\t\t\t\t\t\t\t\t\t\n",
      "\t^<HiddenElement\t\t\t(id=151)\t\t\t\t\t\t\t\t\t\t\n",
      "\t^<topElement\t\t\t(id=96)\t\t\t\t\t\t\t\t\t\t\n",
      "^<metamer10\t\t\t(id=97)\t\t\t\t\t\t\t\t\t\t\t\n",
      "^/internode\t\t\t(id=98)\t\t\t\t\t\t\t\t\t\t\t\n",
      "^/baseElement\t\t\t(id=99)\t\t\t\t\t\t\t\t\t\t\t\n",
      "^<HiddenElement\t\t\t(id=153)\t\t\t\t\t\t\t\t\t\t\t\n",
      "^<StemElement\t\t\t(id=152)\t\t\t\t\t\t\t\t\t\t\t\n",
      "^<topElement\t\t\t(id=100)\t\t\t\t\t\t\t\t\t\t\t\n",
      "\t+sheath\t\t\t(id=101)\t\t\t\t\t\t\t\t\t\t\n",
      "\t^/baseElement\t\t\t(id=102)\t\t\t\t\t\t\t\t\t\t\n",
      "\t^<HiddenElement\t\t\t(id=155)\t\t\t\t\t\t\t\t\t\t\n",
      "\t^<StemElement\t\t\t(id=154)\t\t\t\t\t\t\t\t\t\t\n",
      "\t^<topElement\t\t\t(id=103)\t\t\t\t\t\t\t\t\t\t\n",
      "\t^<blade\t\t\t(id=104)\t\t\t\t\t\t\t\t\t\t\n",
      "\t^/baseElement\t\t\t(id=105)\t\t\t\t\t\t\t\t\t\t\n",
      "\t^<HiddenElement\t\t\t(id=156)\t\t\t\t\t\t\t\t\t\t\n",
      "\t^<topElement\t\t\t(id=106)\t\t\t\t\t\t\t\t\t\t\n",
      "^<metamer11\t\t\t(id=161)\t\t\t\t\t\t\t\t\t\t\t\n",
      "^/internode\t\t\t(id=162)\t\t\t\t\t\t\t\t\t\t\t\n",
      "^/baseElement\t\t\t(id=163)\t\t\t\t\t\t\t\t\t\t\t\n",
      "^<HiddenElement\t\t\t(id=172)\t\t\t\t\t\t\t\t\t\t\t\n",
      "^<StemElement\t\t\t(id=171)\t\t\t\t\t\t\t\t\t\t\t\n",
      "^<topElement\t\t\t(id=164)\t\t\t\t\t\t\t\t\t\t\t\n",
      "\t+sheath\t\t\t(id=165)\t\t\t\t\t\t\t\t\t\t\n",
      "\t^/baseElement\t\t\t(id=166)\t\t\t\t\t\t\t\t\t\t\n",
      "\t^<HiddenElement\t\t\t(id=174)\t\t\t\t\t\t\t\t\t\t\n",
      "\t^<StemElement\t\t\t(id=173)\t\t\t\t\t\t\t\t\t\t\n",
      "\t^<topElement\t\t\t(id=167)\t\t\t\t\t\t\t\t\t\t\n",
      "\t^<blade\t\t\t(id=168)\t\t\t\t\t\t\t\t\t\t\n",
      "\t^/baseElement\t\t\t(id=169)\t\t\t\t\t\t\t\t\t\t\n",
      "\t^<HiddenElement\t\t\t(id=175)\t\t\t\t\t\t\t\t\t\t\n",
      "\t^<topElement\t\t\t(id=170)\t\t\t\t\t\t\t\t\t\t\n"
     ]
    }
   ],
   "source": [
    "g.display()"
   ]
  },
  {
   "cell_type": "code",
   "execution_count": 93,
   "id": "56c9deb8-3643-480d-8f45-a1c72220c11f",
   "metadata": {},
   "outputs": [
    {
     "data": {
      "text/plain": [
       "0"
      ]
     },
     "execution_count": 93,
     "metadata": {},
     "output_type": "execute_result"
    }
   ],
   "source": [
    "g = adel_wheat.update_geometry(g)\n",
    "adel_wheat.plot(g)\n",
    "Viewer.waitSelection()"
   ]
  },
  {
   "cell_type": "markdown",
   "id": "134e21f3-9539-4cdc-8847-b5a831249f51",
   "metadata": {},
   "source": [
    "# TAKAHASHI (2005) paper experiment"
   ]
  },
  {
   "cell_type": "code",
   "execution_count": 36,
   "id": "122373c2-8e18-4e85-b6f9-a314fa3b0217",
   "metadata": {
    "collapsed": true,
    "jupyter": {
     "outputs_hidden": true
    },
    "tags": []
   },
   "outputs": [
    {
     "data": {
      "text/plain": [
       "[<matplotlib.lines.Line2D at 0x238802c5908>]"
      ]
     },
     "execution_count": 36,
     "metadata": {},
     "output_type": "execute_result"
    },
    {
     "data": {
      "image/png": "[encoded data removed]",
      "text/plain": [
       "<Figure size 640x480 with 1 Axes>"
      ]
     },
     "metadata": {},
     "output_type": "display_data"
    }
   ],
   "source": [
    "Lmax = 428\n",
    "nmax = 10.8\n",
    "d = 3.84\n",
    "Ln = lambda n: Lmax*np.exp((-(n-nmax)**2)/(2*d))\n",
    "    \n",
    "rank = np.linspace(4,15)\n",
    "plt.plot(rank, Ln(rank) , \"-+\")"
   ]
  },
  {
   "cell_type": "code",
   "execution_count": 51,
   "id": "d9ddb368-a7f2-4309-bab3-d3ff88c08c54",
   "metadata": {
    "collapsed": true,
    "jupyter": {
     "outputs_hidden": true
    },
    "tags": []
   },
   "outputs": [
    {
     "data": {
      "text/plain": [
       "<matplotlib.legend.Legend at 0x23881018d48>"
      ]
     },
     "execution_count": 51,
     "metadata": {},
     "output_type": "execute_result"
    },
    {
     "data": {
      "image/png": "[encoded data removed]",
      "text/plain": [
       "<Figure size 640x480 with 1 Axes>"
      ]
     },
     "metadata": {},
     "output_type": "display_data"
    }
   ],
   "source": [
    "Wp = 12.5\n",
    "b = 16.19\n",
    "c = 0.0424\n",
    "d = 10.96\n",
    "W = lambda Lm: Wp/(1+np.exp(b-c*Lm))**(1/d)\n",
    "rank = np.linspace(4,15)\n",
    "plt.plot(Ln(rank), W(Ln(rank)) , \"-+\")\n",
    "leaf_rank_length = dict((key, value) for key, value in zip(rank, Ln(rank)))\n",
    "leaf_rank_width = dict((key, value) for key, value in zip(rank, W(Ln(rank))))\n",
    "\n",
    "Flag_Wp = 12.5\n",
    "Flag_b = -4.14\n",
    "Flag_c = 0.0152\n",
    "Flag_d = 0.00647\n",
    "Flag_W = lambda Lm: Flag_Wp/(1+np.exp(Flag_b-Flag_c*Lm))**(1/Flag_d)\n",
    "plt.plot(Ln(rank), Flag_W(Ln(rank)) , \"-+\")\n",
    "plt.legend(['MS', 'Flag Leaf'])"
   ]
  },
  {
   "cell_type": "code",
   "execution_count": 9,
   "id": "5287341c-b386-47ec-8725-e9a00fb3a3df",
   "metadata": {
    "collapsed": true,
    "jupyter": {
     "outputs_hidden": true
    },
    "tags": []
   },
   "outputs": [
    {
     "data": {
      "text/plain": [
       "[<matplotlib.lines.Line2D at 0x238fe09dc08>]"
      ]
     },
     "execution_count": 9,
     "metadata": {},
     "output_type": "execute_result"
    },
    {
     "data": {
      "image/png": "[encoded data removed]",
      "text/plain": [
       "<Figure size 640x480 with 1 Axes>"
      ]
     },
     "metadata": {},
     "output_type": "display_data"
    }
   ],
   "source": [
    "rank = np.linspace(4,15)\n",
    "plt.plot(Ln(rank), W(Ln(rank)))"
   ]
  },
  {
   "cell_type": "code",
   "execution_count": 33,
   "id": "16f47e4a-7db8-4534-a9bd-f4615a27c90a",
   "metadata": {},
   "outputs": [],
   "source": [
    "rank_theta01 = {3:40, 4:30, 5:39, 6:38, 7:29, 8:28, 7:15, 8:20, 9:15, 10:16, 11:18} # according to Fig.5\n",
    "rank_theta03 = {rank: 81.7*(1-np.exp(-0.0379*theta)) for rank, theta in zip(rank_theta01.keys(), rank_theta01.values())}\n",
    "rank_theta02 = {rank: 2*(theta3-theta1) for rank, theta1, theta3 in zip(rank_theta01.keys(), rank_theta01.values(), rank_theta03.values())}\n"
   ]
  },
  {
   "cell_type": "code",
   "execution_count": 90,
   "id": "4fb39d83-1c85-4b56-9d46-7e2263114e6d",
   "metadata": {},
   "outputs": [
    {
     "name": "stdout",
     "output_type": "stream",
     "text": [
      "20\n"
     ]
    },
    {
     "data": {
      "text/plain": [
       "[<matplotlib.lines.Line2D at 0x2388a640988>]"
      ]
     },
     "execution_count": 90,
     "metadata": {},
     "output_type": "execute_result"
    },
    {
     "data": {
      "image/png": "[encoded data removed]",
      "text/plain": [
       "<Figure size 640x480 with 1 Axes>"
      ]
     },
     "metadata": {},
     "output_type": "display_data"
    }
   ],
   "source": [
    "def leaf_rank_selector(in_key):\n",
    "    return list(leaf_rank_length.keys())[np.argmin(abs(np.array(list(leaf_rank_length.keys()))-in_key))]\n",
    "\n",
    "leaf_rank = 8\n",
    "print(rank_theta01[leaf_rank])\n",
    "length = leaf_rank_length[leaf_rank_selector(leaf_rank)]\n",
    "x1 = length/2*np.sin(np.deg2rad(rank_theta01[leaf_rank]))\n",
    "y1 = length/2*np.cos(np.deg2rad(rank_theta01[leaf_rank]))\n",
    "hypotenuse = np.sqrt(   2*(length/2)**2-2*(length/2)**2*np.cos( np.pi-2*np.deg2rad( (rank_theta03[leaf_rank]-rank_theta01[leaf_rank]) ) ) )\n",
    "x2 = hypotenuse*np.sin(np.deg2rad(rank_theta03[leaf_rank]))\n",
    "y2 = hypotenuse*np.cos(np.deg2rad(rank_theta03[leaf_rank]))\n",
    "points = [(0,0), (x1, y1),  (x2, y2)]\n",
    "plt.plot(list(zip(*points))[0], list(zip(*points))[1] ,'-.')"
   ]
  },
  {
   "cell_type": "code",
   "execution_count": 121,
   "id": "82b8dbef-f5c0-4ba9-b358-abc285f839c7",
   "metadata": {},
   "outputs": [
    {
     "data": {
      "text/plain": [
       "[<matplotlib.lines.Line2D at 0x23890118308>]"
      ]
     },
     "execution_count": 121,
     "metadata": {},
     "output_type": "execute_result"
    },
    {
     "data": {
      "image/png": "[encoded data removed]",
      "text/plain": [
       "<Figure size 640x480 with 1 Axes>"
      ]
     },
     "metadata": {},
     "output_type": "display_data"
    }
   ],
   "source": [
    "from scipy.interpolate import CubicHermiteSpline as CHS\n",
    "chs = CHS(list(zip(*points))[0], list(zip(*points))[1], dydx = [1.1, 0.9, -0.02])\n",
    "xcoord = np.linspace(50,250,500)\n",
    "plt.plot(xcoord, chs(xcoord))"
   ]
  },
  {
   "cell_type": "code",
   "execution_count": null,
   "id": "7c52f927-ad4e-4acb-b694-b590e7071c74",
   "metadata": {
    "tags": []
   },
   "outputs": [],
   "source": [
    "## "
   ]
  },
  {
   "cell_type": "code",
   "execution_count": 3,
   "id": "392b5cd2-5fcf-4dc4-a4c3-c278a770cee5",
   "metadata": {},
   "outputs": [],
   "source": [
    "PLANT_DENSITY = {1: 250.}\n",
    "INTER_ROW = 0.15\n",
    "INPUTS_DIRPATH = 'inputs'\n",
    "# Create the stand using density pattern\n",
    "stand = AgronomicStand(sowing_density=PLANT_DENSITY[1], plant_density=PLANT_DENSITY[1], inter_row=INTER_ROW, noise=0.)\n",
    "\n",
    "# Create AdelDyn object and empty mtg\n",
    "adel_wheat = AdelDyn(seed=1, scene_unit='m', stand=stand)\n",
    "axeT_df = pd.read_csv(os.path.join(INPUTS_DIRPATH, 'axeTable_with_tiller.csv'))"
   ]
  },
  {
   "cell_type": "code",
   "execution_count": 3,
   "id": "f7d8229c-733e-4bdf-ad7e-2285170ea3a6",
   "metadata": {},
   "outputs": [],
   "source": [
    "g = MTG()\n",
    "for i, plant in axeT_df.groupby('plant'):\n",
    "    plant_properties = {'position': adel_wheat.positions[0],\n",
    "                        'azimuth': adel_wheat.plant_azimuths[0],\n",
    "                        'refplant_id': 0}\n",
    "    \n",
    "    ms = plant.loc[plant['axe'] == 'MS', :].to_dict('list')\n",
    "    ms_properties = {'HS_final': float(ms['HS_final'][0]),\n",
    "                     'nff': int(ms['nf'][0]),\n",
    "                     'hasEar': bool(int(ms['hasEar'][0])),\n",
    "                     'azimuth': 0}\n",
    "    add_plant(g, i, plant_properties=plant_properties, axis_properties=ms_properties,)"
   ]
  },
  {
   "cell_type": "code",
   "execution_count": 4,
   "id": "26e2566f-d5d7-4466-9662-fd5f23977162",
   "metadata": {},
   "outputs": [],
   "source": [
    "phytoT_df = pd.read_csv(os.path.join('inputs', 'phytoT_with_tiller.csv'))"
   ]
  },
  {
   "cell_type": "code",
   "execution_count": 30,
   "id": "a4888c45-f8d0-4bcc-941c-dcb4a858d3cd",
   "metadata": {},
   "outputs": [
    {
     "data": {
      "text/plain": [
       "108"
      ]
     },
     "execution_count": 30,
     "metadata": {},
     "output_type": "execute_result"
    }
   ],
   "source": [
    "adel_wheat.add_metamer(g, phytoT_df, axe='MS')"
   ]
  },
  {
   "cell_type": "code",
   "execution_count": 10,
   "id": "155cc867-8087-46f0-bd7d-a49665630580",
   "metadata": {},
   "outputs": [
    {
     "data": {
      "text/plain": [
       "52"
      ]
     },
     "execution_count": 10,
     "metadata": {},
     "output_type": "execute_result"
    }
   ],
   "source": [
    "adel_wheat.add_metamer(g, phytoT_df, axe='MS')"
   ]
  },
  {
   "cell_type": "code",
   "execution_count": 11,
   "id": "23617c76-f77e-48bc-a5b3-e5837bf0a28b",
   "metadata": {},
   "outputs": [],
   "source": [
    "for i, plant in axeT_df.groupby('plant'):\n",
    "    tiller = plant.loc[plant['axe']=='T1', :].to_dict('list')\n",
    "    t_properties = {'HS_final': float(tiller['HS_final'][0]),\n",
    "                     'nff': int(tiller['nf'][0]), 'hasEar': bool(int(tiller['hasEar'][0])),'azimuth': 0, 'inclination': 10}\n",
    "    \n",
    "    add_axe(g, 'T1', axis_properties=t_properties)\n",
    "    "
   ]
  },
  {
   "cell_type": "code",
   "execution_count": 33,
   "id": "1e026d8f-046e-4a35-a931-a47a59cce132",
   "metadata": {},
   "outputs": [
    {
     "data": {
      "text/plain": [
       "123"
      ]
     },
     "execution_count": 33,
     "metadata": {},
     "output_type": "execute_result"
    }
   ],
   "source": [
    "adel_wheat.add_metamer(g, phytoT_df, axe='T1')"
   ]
  },
  {
   "cell_type": "code",
   "execution_count": 22,
   "id": "5583aae1-234f-4825-a315-cb26d3f3f94d",
   "metadata": {},
   "outputs": [
    {
     "data": {
      "text/plain": [
       "{'edge_type': '<',\n",
       " 'label': 'internode',\n",
       " 'azimuth': 183.6433947,\n",
       " 'ntop': 9,\n",
       " 'length': 2,\n",
       " 'visible_length': 2,\n",
       " 'senesced_length': 0,\n",
       " 'diameter': 0.05,\n",
       " 'inclination': 0,\n",
       " 'shape_mature_length': 1.0,\n",
       " 'area': 0.3141592653589793}"
      ]
     },
     "execution_count": 22,
     "metadata": {},
     "output_type": "execute_result"
    }
   ],
   "source": [
    "g.node(33).properties()"
   ]
  },
  {
   "cell_type": "code",
   "execution_count": 16,
   "id": "f381fdbe-0232-494b-9520-525914f8357c",
   "metadata": {
    "collapsed": true,
    "jupyter": {
     "outputs_hidden": true
    },
    "tags": []
   },
   "outputs": [
    {
     "name": "stdout",
     "output_type": "stream",
     "text": [
      "MTG : nb_vertices=108, nb_scales=6\n",
      "/plant1\t\t\t(id=1)\t\t\t\t\t\t\t\t\t\t\t\n",
      "^/MS\t\t\t(id=2)\t\t\t\t\t\t\t\t\t\t\t\n",
      "^/metamer0\t\t\t(id=3)\t\t\t\t\t\t\t\t\t\t\t\n",
      "^/collar\t\t\t(id=4)\t\t\t\t\t\t\t\t\t\t\t\n",
      "^/baseElement\t\t\t(id=5)\t\t\t\t\t\t\t\t\t\t\t\n",
      "^<topElement\t\t\t(id=6)\t\t\t\t\t\t\t\t\t\t\t\n",
      "^<metamer1\t\t\t(id=7)\t\t\t\t\t\t\t\t\t\t\t\n",
      "^/internode\t\t\t(id=8)\t\t\t\t\t\t\t\t\t\t\t\n",
      "^/baseElement\t\t\t(id=9)\t\t\t\t\t\t\t\t\t\t\t\n",
      "\t+T1\t\t\t(id=27)\t\t\t\t\t\t\t\t\t\t\n",
      "\t^/metamer0\t\t\t(id=28)\t\t\t\t\t\t\t\t\t\t\n",
      "\t^/collar\t\t\t(id=29)\t\t\t\t\t\t\t\t\t\t\n",
      "\t^/baseElement\t\t\t(id=30)\t\t\t\t\t\t\t\t\t\t\n",
      "\t^<topElement\t\t\t(id=31)\t\t\t\t\t\t\t\t\t\t\n",
      "\t^<metamer1\t\t\t(id=32)\t\t\t\t\t\t\t\t\t\t\n",
      "\t^/internode\t\t\t(id=33)\t\t\t\t\t\t\t\t\t\t\n",
      "\t^/baseElement\t\t\t(id=34)\t\t\t\t\t\t\t\t\t\t\n",
      "\t^<HiddenElement\t\t\t(id=85)\t\t\t\t\t\t\t\t\t\t\n",
      "\t^<StemElement\t\t\t(id=84)\t\t\t\t\t\t\t\t\t\t\n",
      "\t^<topElement\t\t\t(id=35)\t\t\t\t\t\t\t\t\t\t\n",
      "\t\t+sheath\t\t\t(id=36)\t\t\t\t\t\t\t\t\t\n",
      "\t\t^/baseElement\t\t\t(id=37)\t\t\t\t\t\t\t\t\t\n",
      "\t\t^<HiddenElement\t\t\t(id=87)\t\t\t\t\t\t\t\t\t\n",
      "\t\t^<StemElement\t\t\t(id=86)\t\t\t\t\t\t\t\t\t\n",
      "\t\t^<topElement\t\t\t(id=38)\t\t\t\t\t\t\t\t\t\n",
      "\t\t^<blade\t\t\t(id=39)\t\t\t\t\t\t\t\t\t\n",
      "\t\t^/baseElement\t\t\t(id=40)\t\t\t\t\t\t\t\t\t\n",
      "\t\t^<HiddenElement\t\t\t(id=89)\t\t\t\t\t\t\t\t\t\n",
      "\t\t^<LeafElement1\t\t\t(id=88)\t\t\t\t\t\t\t\t\t\n",
      "\t\t^<topElement\t\t\t(id=41)\t\t\t\t\t\t\t\t\t\n",
      "\t^<metamer2\t\t\t(id=62)\t\t\t\t\t\t\t\t\t\t\n",
      "\t^/internode\t\t\t(id=63)\t\t\t\t\t\t\t\t\t\t\n",
      "\t^/baseElement\t\t\t(id=64)\t\t\t\t\t\t\t\t\t\t\n",
      "\t^<HiddenElement\t\t\t(id=103)\t\t\t\t\t\t\t\t\t\t\n",
      "\t^<StemElement\t\t\t(id=102)\t\t\t\t\t\t\t\t\t\t\n",
      "\t^<topElement\t\t\t(id=65)\t\t\t\t\t\t\t\t\t\t\n",
      "\t\t+sheath\t\t\t(id=66)\t\t\t\t\t\t\t\t\t\n",
      "\t\t^/baseElement\t\t\t(id=67)\t\t\t\t\t\t\t\t\t\n",
      "\t\t^<HiddenElement\t\t\t(id=105)\t\t\t\t\t\t\t\t\t\n",
      "\t\t^<StemElement\t\t\t(id=104)\t\t\t\t\t\t\t\t\t\n",
      "\t\t^<topElement\t\t\t(id=68)\t\t\t\t\t\t\t\t\t\n",
      "\t\t^<blade\t\t\t(id=69)\t\t\t\t\t\t\t\t\t\n",
      "\t\t^/baseElement\t\t\t(id=70)\t\t\t\t\t\t\t\t\t\n",
      "\t\t^<HiddenElement\t\t\t(id=107)\t\t\t\t\t\t\t\t\t\n",
      "\t\t^<LeafElement1\t\t\t(id=106)\t\t\t\t\t\t\t\t\t\n",
      "\t\t^<topElement\t\t\t(id=71)\t\t\t\t\t\t\t\t\t\n",
      "^<HiddenElement\t\t\t(id=73)\t\t\t\t\t\t\t\t\t\t\t\n",
      "^<StemElement\t\t\t(id=72)\t\t\t\t\t\t\t\t\t\t\t\n",
      "^<topElement\t\t\t(id=10)\t\t\t\t\t\t\t\t\t\t\t\n",
      "\t+sheath\t\t\t(id=11)\t\t\t\t\t\t\t\t\t\t\n",
      "\t^/baseElement\t\t\t(id=12)\t\t\t\t\t\t\t\t\t\t\n",
      "\t^<HiddenElement\t\t\t(id=75)\t\t\t\t\t\t\t\t\t\t\n",
      "\t^<StemElement\t\t\t(id=74)\t\t\t\t\t\t\t\t\t\t\n",
      "\t^<topElement\t\t\t(id=13)\t\t\t\t\t\t\t\t\t\t\n",
      "\t^<blade\t\t\t(id=14)\t\t\t\t\t\t\t\t\t\t\n",
      "\t^/baseElement\t\t\t(id=15)\t\t\t\t\t\t\t\t\t\t\n",
      "\t^<HiddenElement\t\t\t(id=77)\t\t\t\t\t\t\t\t\t\t\n",
      "\t^<LeafElement1\t\t\t(id=76)\t\t\t\t\t\t\t\t\t\t\n",
      "\t^<topElement\t\t\t(id=16)\t\t\t\t\t\t\t\t\t\t\n",
      "^<metamer2\t\t\t(id=17)\t\t\t\t\t\t\t\t\t\t\t\n",
      "^/internode\t\t\t(id=18)\t\t\t\t\t\t\t\t\t\t\t\n",
      "^/baseElement\t\t\t(id=19)\t\t\t\t\t\t\t\t\t\t\t\n",
      "^<HiddenElement\t\t\t(id=79)\t\t\t\t\t\t\t\t\t\t\t\n",
      "^<StemElement\t\t\t(id=78)\t\t\t\t\t\t\t\t\t\t\t\n",
      "^<topElement\t\t\t(id=20)\t\t\t\t\t\t\t\t\t\t\t\n",
      "\t+sheath\t\t\t(id=21)\t\t\t\t\t\t\t\t\t\t\n",
      "\t^/baseElement\t\t\t(id=22)\t\t\t\t\t\t\t\t\t\t\n",
      "\t^<HiddenElement\t\t\t(id=81)\t\t\t\t\t\t\t\t\t\t\n",
      "\t^<StemElement\t\t\t(id=80)\t\t\t\t\t\t\t\t\t\t\n",
      "\t^<topElement\t\t\t(id=23)\t\t\t\t\t\t\t\t\t\t\n",
      "\t^<blade\t\t\t(id=24)\t\t\t\t\t\t\t\t\t\t\n",
      "\t^/baseElement\t\t\t(id=25)\t\t\t\t\t\t\t\t\t\t\n",
      "\t^<HiddenElement\t\t\t(id=83)\t\t\t\t\t\t\t\t\t\t\n",
      "\t^<LeafElement1\t\t\t(id=82)\t\t\t\t\t\t\t\t\t\t\n",
      "\t^<topElement\t\t\t(id=26)\t\t\t\t\t\t\t\t\t\t\n",
      "^<metamer3\t\t\t(id=42)\t\t\t\t\t\t\t\t\t\t\t\n",
      "^/internode\t\t\t(id=43)\t\t\t\t\t\t\t\t\t\t\t\n",
      "^/baseElement\t\t\t(id=44)\t\t\t\t\t\t\t\t\t\t\t\n",
      "^<HiddenElement\t\t\t(id=91)\t\t\t\t\t\t\t\t\t\t\t\n",
      "^<StemElement\t\t\t(id=90)\t\t\t\t\t\t\t\t\t\t\t\n",
      "^<topElement\t\t\t(id=45)\t\t\t\t\t\t\t\t\t\t\t\n",
      "\t+sheath\t\t\t(id=46)\t\t\t\t\t\t\t\t\t\t\n",
      "\t^/baseElement\t\t\t(id=47)\t\t\t\t\t\t\t\t\t\t\n",
      "\t^<HiddenElement\t\t\t(id=93)\t\t\t\t\t\t\t\t\t\t\n",
      "\t^<StemElement\t\t\t(id=92)\t\t\t\t\t\t\t\t\t\t\n",
      "\t^<topElement\t\t\t(id=48)\t\t\t\t\t\t\t\t\t\t\n",
      "\t^<blade\t\t\t(id=49)\t\t\t\t\t\t\t\t\t\t\n",
      "\t^/baseElement\t\t\t(id=50)\t\t\t\t\t\t\t\t\t\t\n",
      "\t^<HiddenElement\t\t\t(id=95)\t\t\t\t\t\t\t\t\t\t\n",
      "\t^<LeafElement1\t\t\t(id=94)\t\t\t\t\t\t\t\t\t\t\n",
      "\t^<topElement\t\t\t(id=51)\t\t\t\t\t\t\t\t\t\t\n",
      "^<metamer4\t\t\t(id=52)\t\t\t\t\t\t\t\t\t\t\t\n",
      "^/internode\t\t\t(id=53)\t\t\t\t\t\t\t\t\t\t\t\n",
      "^/baseElement\t\t\t(id=54)\t\t\t\t\t\t\t\t\t\t\t\n",
      "^<HiddenElement\t\t\t(id=97)\t\t\t\t\t\t\t\t\t\t\t\n",
      "^<StemElement\t\t\t(id=96)\t\t\t\t\t\t\t\t\t\t\t\n",
      "^<topElement\t\t\t(id=55)\t\t\t\t\t\t\t\t\t\t\t\n",
      "\t+sheath\t\t\t(id=56)\t\t\t\t\t\t\t\t\t\t\n",
      "\t^/baseElement\t\t\t(id=57)\t\t\t\t\t\t\t\t\t\t\n",
      "\t^<HiddenElement\t\t\t(id=99)\t\t\t\t\t\t\t\t\t\t\n",
      "\t^<StemElement\t\t\t(id=98)\t\t\t\t\t\t\t\t\t\t\n",
      "\t^<topElement\t\t\t(id=58)\t\t\t\t\t\t\t\t\t\t\n",
      "\t^<blade\t\t\t(id=59)\t\t\t\t\t\t\t\t\t\t\n",
      "\t^/baseElement\t\t\t(id=60)\t\t\t\t\t\t\t\t\t\t\n",
      "\t^<HiddenElement\t\t\t(id=101)\t\t\t\t\t\t\t\t\t\t\n",
      "\t^<LeafElement1\t\t\t(id=100)\t\t\t\t\t\t\t\t\t\t\n",
      "\t^<topElement\t\t\t(id=61)\t\t\t\t\t\t\t\t\t\t\n"
     ]
    }
   ],
   "source": [
    "g.display()"
   ]
  },
  {
   "cell_type": "code",
   "execution_count": 34,
   "id": "1c88b6db-1c29-44df-89d9-3391a705b693",
   "metadata": {},
   "outputs": [],
   "source": [
    "for vid in g.property('visible_length'):\n",
    "    if g.node(vid).label.startswith('blade'):\n",
    "        g.property('visible_length')[vid] = 1.2\n",
    "    elif g.node(vid).label.startswith('internode'):\n",
    "        g.property('visible_length')[vid] = 2\n",
    "        \n",
    "for vid in g.property('length'):\n",
    "    if g.node(vid).label.startswith('blade'):\n",
    "        g.property('length')[vid] = 1.2\n",
    "        g.property('shape_mature_length')[vid] = 1.5\n",
    "        g.property('shape_max_width')[vid] = 0.08\n",
    "    elif g.node(vid).label.startswith('internode'):\n",
    "        g.property('length')[vid] = 2\n",
    "        g.property('shape_mature_length')[vid] = 1.0\n",
    "        g.property('diameter')[vid] = 0.05\n",
    "        \n",
    "for vid in g.property('inclination'):\n",
    "    if g.node(vid).label.startswith('blade'):\n",
    "        g.property('inclination')[vid] = 0\n",
    "        \n",
    "for vid in g.property('senesced_length'):\n",
    "    if g.node(vid).label.startswith('internode'):\n",
    "        g.property('senesced_length')[vid] = 0\n",
    "    elif g.node(vid).label.startswith('blade'):\n",
    "        g.property('senesced_length')[vid] = 0\n",
    "        \n",
    "for vid in g.property('rolled_length'):\n",
    "    if g.node(vid).label.startswith('internode'):\n",
    "        g.property('rolled_length')[vid] = 0\n",
    "    elif g.node(vid).label.startswith('blade'):\n",
    "        g.property('rolled_length')[vid] = 0"
   ]
  },
  {
   "cell_type": "code",
   "execution_count": 35,
   "id": "4e4d25d2-a3fb-4571-a6cc-76f0c8f4e8aa",
   "metadata": {},
   "outputs": [],
   "source": [
    "g.property('inclination')[33] = 30"
   ]
  },
  {
   "cell_type": "code",
   "execution_count": 36,
   "id": "7c869d6e-b464-4423-ab8a-28184e7ab82f",
   "metadata": {},
   "outputs": [
    {
     "data": {
      "text/plain": [
       "<openalea.mtg.mtg.MTG at 0x1cfcde3e5c8>"
      ]
     },
     "execution_count": 36,
     "metadata": {},
     "output_type": "execute_result"
    }
   ],
   "source": [
    "adel_wheat.update_geometry(g)"
   ]
  },
  {
   "cell_type": "code",
   "execution_count": 37,
   "id": "909319f0-e95c-4930-a149-9a3e0b802033",
   "metadata": {},
   "outputs": [
    {
     "data": {
      "text/plain": [
       "0"
      ]
     },
     "execution_count": 37,
     "metadata": {},
     "output_type": "execute_result"
    }
   ],
   "source": [
    "from openalea.plantgl.all import Viewer, Scene\n",
    "adel_wheat.plot(g)\n",
    "Viewer.waitSelection()"
   ]
  },
  {
   "cell_type": "code",
   "execution_count": 5,
   "id": "f792e15e-5acb-4b97-ad2d-f5f64e27c07b",
   "metadata": {},
   "outputs": [
    {
     "data": {
      "text/html": [
       "<div>\n",
       "<style scoped>\n",
       "    .dataframe tbody tr th:only-of-type {\n",
       "        vertical-align: middle;\n",
       "    }\n",
       "\n",
       "    .dataframe tbody tr th {\n",
       "        vertical-align: top;\n",
       "    }\n",
       "\n",
       "    .dataframe thead th {\n",
       "        text-align: right;\n",
       "    }\n",
       "</style>\n",
       "<table border=\"1\" class=\"dataframe\">\n",
       "  <thead>\n",
       "    <tr style=\"text-align: right;\">\n",
       "      <th></th>\n",
       "      <th>HS_final</th>\n",
       "      <th>axe</th>\n",
       "      <th>azT</th>\n",
       "      <th>azTb</th>\n",
       "      <th>disp</th>\n",
       "      <th>dredT</th>\n",
       "      <th>emf1</th>\n",
       "      <th>end</th>\n",
       "      <th>hasEar</th>\n",
       "      <th>incT</th>\n",
       "      <th>nf</th>\n",
       "      <th>nf_end</th>\n",
       "      <th>plant</th>\n",
       "    </tr>\n",
       "  </thead>\n",
       "  <tbody>\n",
       "    <tr>\n",
       "      <th>0</th>\n",
       "      <td>12</td>\n",
       "      <td>MS</td>\n",
       "      <td>158.446716</td>\n",
       "      <td>0</td>\n",
       "      <td>NaN</td>\n",
       "      <td>0</td>\n",
       "      <td>21.543097</td>\n",
       "      <td>NaN</td>\n",
       "      <td>1</td>\n",
       "      <td>1.599404</td>\n",
       "      <td>12</td>\n",
       "      <td>12</td>\n",
       "      <td>1</td>\n",
       "    </tr>\n",
       "    <tr>\n",
       "      <th>1</th>\n",
       "      <td>9</td>\n",
       "      <td>T1</td>\n",
       "      <td>90.000000</td>\n",
       "      <td>0</td>\n",
       "      <td>NaN</td>\n",
       "      <td>0</td>\n",
       "      <td>18.543097</td>\n",
       "      <td>NaN</td>\n",
       "      <td>1</td>\n",
       "      <td>50.000000</td>\n",
       "      <td>9</td>\n",
       "      <td>9</td>\n",
       "      <td>1</td>\n",
       "    </tr>\n",
       "  </tbody>\n",
       "</table>\n",
       "</div>"
      ],
      "text/plain": [
       "   HS_final axe         azT  azTb  disp  dredT       emf1  end  hasEar  \\\n",
       "0        12  MS  158.446716     0   NaN      0  21.543097  NaN       1   \n",
       "1         9  T1   90.000000     0   NaN      0  18.543097  NaN       1   \n",
       "\n",
       "        incT  nf  nf_end  plant  \n",
       "0   1.599404  12      12      1  \n",
       "1  50.000000   9       9      1  "
      ]
     },
     "execution_count": 5,
     "metadata": {},
     "output_type": "execute_result"
    }
   ],
   "source": [
    "axeT_df"
   ]
  },
  {
   "cell_type": "code",
   "execution_count": 4,
   "id": "a479eee1-9df5-47c1-9b67-bd9eae45e994",
   "metadata": {
    "tags": []
   },
   "outputs": [
    {
     "data": {
      "text/plain": [
       "<openalea.mtg.mtg.MTG at 0x1debb736948>"
      ]
     },
     "execution_count": 4,
     "metadata": {},
     "output_type": "execute_result"
    }
   ],
   "source": [
    "# define the time step in hours for each simulator\n",
    "CARIBU_TIMESTEP = 4\n",
    "SENESCWHEAT_TIMESTEP = 1\n",
    "FARQUHARWHEAT_TIMESTEP = 1\n",
    "ELONGWHEAT_TIMESTEP = 1\n",
    "GROWTHWHEAT_TIMESTEP = 1\n",
    "CNWHEAT_TIMESTEP = 1\n",
    "\n",
    "PLANT_DENSITY  = None\n",
    "INTER_ROW = 0.15\n",
    "# Define default plant density (culm m-2)\n",
    "if PLANT_DENSITY is None:\n",
    "    PLANT_DENSITY = {1: 250.}\n",
    "\n",
    "# precision of floats used to write and format the output CSV files\n",
    "OUTPUTS_PRECISION = 8\n",
    "\n",
    "# number of seconds in 1 hour\n",
    "HOUR_TO_SECOND_CONVERSION_FACTOR = 3600\n",
    "\n",
    "# Name of the CSV files which will contain the outputs of the model\n",
    "AXES_OUTPUTS_FILENAME = 'axes_outputs.csv'\n",
    "ORGANS_OUTPUTS_FILENAME = 'organs_outputs.csv'\n",
    "HIDDENZONES_OUTPUTS_FILENAME = 'hiddenzones_outputs.csv'\n",
    "ELEMENTS_OUTPUTS_FILENAME = 'elements_outputs.csv'\n",
    "SOILS_OUTPUTS_FILENAME = 'soils_outputs.csv'\n",
    "\n",
    "# -- INPUTS CONFIGURATION --\n",
    "\n",
    "# Path of the directory which contains the inputs of the model\n",
    "INPUTS_DIRPATH = 'inputs'\n",
    "\n",
    "# Name of the CSV files which describes the initial state of the system\n",
    "AXES_INITIAL_STATE_FILENAME = 'axes_initial_state.csv'\n",
    "ORGANS_INITIAL_STATE_FILENAME = 'organs_initial_state.csv'\n",
    "HIDDENZONES_INITIAL_STATE_FILENAME = 'hiddenzones_initial_state.csv'\n",
    "ELEMENTS_INITIAL_STATE_FILENAME = 'elements_initial_state.csv'\n",
    "SOILS_INITIAL_STATE_FILENAME = 'soils_initial_state.csv'\n",
    "\n",
    "# Read the inputs from CSV files and create inputs dataframes\n",
    "inputs_dataframes = {}\n",
    "new_start_time = -1\n",
    "for inputs_filename in (AXES_INITIAL_STATE_FILENAME,\n",
    "                        ORGANS_INITIAL_STATE_FILENAME,\n",
    "                        HIDDENZONES_INITIAL_STATE_FILENAME,\n",
    "                        ELEMENTS_INITIAL_STATE_FILENAME,\n",
    "                        SOILS_INITIAL_STATE_FILENAME):\n",
    "    inputs_dataframe = pd.read_csv(os.path.join(INPUTS_DIRPATH, inputs_filename))\n",
    "    inputs_dataframes[inputs_filename] = inputs_dataframe.where(inputs_dataframe.notnull(), None)\n",
    "\n",
    "# Start time of the simulation\n",
    "START_TIME = max(0, new_start_time)\n",
    "\n",
    "# Name of the CSV files which contains the meteo data\n",
    "meteo = pd.read_csv(os.path.join('inputs', 'meteo_PAR1500.csv'), index_col='t')\n",
    "\n",
    "# -- OUTPUTS CONFIGURATION --\n",
    "\n",
    "# Save the outputs with a full scan of the MTG at each time step (or at selected time steps)\n",
    "UPDATE_SHARED_DF = False\n",
    "\n",
    "# create empty dataframes to shared data between the models\n",
    "shared_axes_inputs_outputs_df = pd.DataFrame()\n",
    "shared_organs_inputs_outputs_df = pd.DataFrame()\n",
    "shared_hiddenzones_inputs_outputs_df = pd.DataFrame()\n",
    "shared_elements_inputs_outputs_df = pd.DataFrame()\n",
    "shared_soils_inputs_outputs_df = pd.DataFrame()\n",
    "\n",
    "# define lists of dataframes to store the inputs and the outputs of the models at each step.\n",
    "axes_all_data_list = []\n",
    "organs_all_data_list = []  # organs which belong to axes: roots, phloem, grains\n",
    "hiddenzones_all_data_list = []\n",
    "elements_all_data_list = []\n",
    "soils_all_data_list = []\n",
    "\n",
    "all_simulation_steps = []  # to store the steps of the simulation\n",
    "\n",
    "# -- POSTPROCESSING CONFIGURATION --\n",
    "\n",
    "# Name of the CSV files which will contain the postprocessing of the model\n",
    "AXES_POSTPROCESSING_FILENAME = 'axes_postprocessing.csv'\n",
    "ORGANS_POSTPROCESSING_FILENAME = 'organs_postprocessing.csv'\n",
    "HIDDENZONES_POSTPROCESSING_FILENAME = 'hiddenzones_postprocessing.csv'\n",
    "ELEMENTS_POSTPROCESSING_FILENAME = 'elements_postprocessing.csv'\n",
    "SOILS_POSTPROCESSING_FILENAME = 'soils_postprocessing.csv'\n",
    "\n",
    "# -- ADEL and MTG CONFIGURATION --\n",
    "\n",
    "# Create the stand using density pattern\n",
    "stand = AgronomicStand(sowing_density=PLANT_DENSITY[1], plant_density=PLANT_DENSITY[1], inter_row=INTER_ROW, noise=0.)\n",
    "\n",
    "# Create AdelDyn object and empty mtg\n",
    "adel_wheat = AdelDyn(seed=1, scene_unit='m', leaves=echap_leaves(xy_model='Soissons_byleafclass', top_leaves=0), stand=stand)\n",
    "axeT_df = pd.read_csv(os.path.join(INPUTS_DIRPATH, 'axeTable.csv'))\n",
    "\n",
    "update_parameters_all_models = None\n",
    "update_parameters_elongwheat = None\n",
    "N_fertilizations = None\n",
    "# Final leaf number\n",
    "nff = 50\n",
    "axeT_df.HS_final = nff\n",
    "axeT_df.nf = nff\n",
    "axeT_df.nf_end = nff\n",
    "\n",
    "# mtg\n",
    "g = adel_wheat.build_stand(axeT_df)\n",
    "\n",
    "# ---------------------------------------------\n",
    "# ----- CONFIGURATION OF THE FACADES -------\n",
    "# ---------------------------------------------\n",
    "\n",
    "# -- ELONGWHEAT (created first because it is the only facade to add new metamers) --\n",
    "# Initial states\n",
    "elongwheat_hiddenzones_initial_state = inputs_dataframes[HIDDENZONES_INITIAL_STATE_FILENAME][\n",
    "    elongwheat_facade.converter.HIDDENZONE_TOPOLOGY_COLUMNS + [i for i in elongwheat_facade.simulation.HIDDENZONE_INPUTS if i in\n",
    "                                                               inputs_dataframes[HIDDENZONES_INITIAL_STATE_FILENAME].columns]].copy()\n",
    "elongwheat_elements_initial_state = inputs_dataframes[ELEMENTS_INITIAL_STATE_FILENAME][\n",
    "    elongwheat_facade.converter.ELEMENT_TOPOLOGY_COLUMNS + [i for i in elongwheat_facade.simulation.ELEMENT_INPUTS if i in\n",
    "                                                            inputs_dataframes[ELEMENTS_INITIAL_STATE_FILENAME].columns]].copy()\n",
    "elongwheat_axes_initial_state = inputs_dataframes[AXES_INITIAL_STATE_FILENAME][\n",
    "    elongwheat_facade.converter.AXIS_TOPOLOGY_COLUMNS + [i for i in elongwheat_facade.simulation.AXIS_INPUTS if i in inputs_dataframes[AXES_INITIAL_STATE_FILENAME].columns]].copy()\n",
    "\n",
    "phytoT_df = pd.read_csv(os.path.join(INPUTS_DIRPATH, 'phytoT.csv'))\n",
    "\n",
    "\n",
    "# Facade initialisation\n",
    "elongwheat_facade_ = elongwheat_facade.ElongWheatFacade(g,\n",
    "                                                        ELONGWHEAT_TIMESTEP * HOUR_TO_SECOND_CONVERSION_FACTOR,\n",
    "                                                        elongwheat_axes_initial_state,\n",
    "                                                        elongwheat_hiddenzones_initial_state,\n",
    "                                                        elongwheat_elements_initial_state,\n",
    "                                                        shared_axes_inputs_outputs_df,\n",
    "                                                        shared_hiddenzones_inputs_outputs_df,\n",
    "                                                        shared_elements_inputs_outputs_df,\n",
    "                                                        adel_wheat, phytoT_df,\n",
    "                                                        update_parameters_elongwheat,\n",
    "                                                        update_shared_df=UPDATE_SHARED_DF)\n",
    "\n",
    "# -- CARIBU --\n",
    "caribu_facade_ = caribu_facade.CaribuFacade(g,\n",
    "                                            shared_elements_inputs_outputs_df,\n",
    "                                            adel_wheat,\n",
    "                                            update_shared_df=UPDATE_SHARED_DF)\n",
    "\n",
    "# -- SENESCWHEAT --\n",
    "# Initial states    \n",
    "senescwheat_roots_initial_state = inputs_dataframes[ORGANS_INITIAL_STATE_FILENAME].loc[inputs_dataframes[ORGANS_INITIAL_STATE_FILENAME]['organ'] == 'roots'][\n",
    "    senescwheat_facade.converter.ROOTS_TOPOLOGY_COLUMNS +\n",
    "    [i for i in senescwheat_facade.converter.SENESCWHEAT_ROOTS_INPUTS if i in inputs_dataframes[ORGANS_INITIAL_STATE_FILENAME].columns]].copy()\n",
    "\n",
    "senescwheat_elements_initial_state = inputs_dataframes[ELEMENTS_INITIAL_STATE_FILENAME][\n",
    "    senescwheat_facade.converter.ELEMENTS_TOPOLOGY_COLUMNS +\n",
    "    [i for i in senescwheat_facade.converter.SENESCWHEAT_ELEMENTS_INPUTS if i in inputs_dataframes[ELEMENTS_INITIAL_STATE_FILENAME].columns]].copy()\n",
    "\n",
    "senescwheat_axes_initial_state = inputs_dataframes[AXES_INITIAL_STATE_FILENAME][\n",
    "    senescwheat_facade.converter.AXES_TOPOLOGY_COLUMNS +\n",
    "    [i for i in senescwheat_facade.converter.SENESCWHEAT_AXES_INPUTS if i in inputs_dataframes[AXES_INITIAL_STATE_FILENAME].columns]].copy()\n",
    "\n",
    "# Update parameters if specified\n",
    "\n",
    "update_parameters_senescwheat = None\n",
    "\n",
    "# Facade initialisation\n",
    "senescwheat_facade_ = senescwheat_facade.SenescWheatFacade(g,\n",
    "                                                           SENESCWHEAT_TIMESTEP * HOUR_TO_SECOND_CONVERSION_FACTOR,\n",
    "                                                           senescwheat_roots_initial_state,\n",
    "                                                           senescwheat_axes_initial_state,\n",
    "                                                           senescwheat_elements_initial_state,\n",
    "                                                           shared_organs_inputs_outputs_df,\n",
    "                                                           shared_axes_inputs_outputs_df,\n",
    "                                                           shared_elements_inputs_outputs_df,\n",
    "                                                           update_parameters_senescwheat,\n",
    "                                                           update_shared_df=UPDATE_SHARED_DF)\n",
    "\n",
    "# -- FARQUHARWHEAT --\n",
    "# Initial states    \n",
    "farquharwheat_elements_initial_state = inputs_dataframes[ELEMENTS_INITIAL_STATE_FILENAME][\n",
    "    farquharwheat_facade.converter.ELEMENT_TOPOLOGY_COLUMNS +\n",
    "    [i for i in farquharwheat_facade.converter.FARQUHARWHEAT_ELEMENTS_INPUTS if i in inputs_dataframes[ELEMENTS_INITIAL_STATE_FILENAME].columns]].copy()\n",
    "\n",
    "farquharwheat_axes_initial_state = inputs_dataframes[AXES_INITIAL_STATE_FILENAME][\n",
    "    farquharwheat_facade.converter.AXIS_TOPOLOGY_COLUMNS +\n",
    "    [i for i in farquharwheat_facade.converter.FARQUHARWHEAT_AXES_INPUTS if i in inputs_dataframes[AXES_INITIAL_STATE_FILENAME].columns]].copy()\n",
    "\n",
    "# Update parameters if specified\n",
    "if update_parameters_all_models and 'farquharwheat' in update_parameters_all_models:\n",
    "    update_parameters_farquharwheat = update_parameters_all_models['farquharwheat']\n",
    "else:\n",
    "    update_parameters_farquharwheat = None\n",
    "\n",
    "# Facade initialisation\n",
    "farquharwheat_facade_ = farquharwheat_facade.FarquharWheatFacade(g,\n",
    "                                                                 farquharwheat_elements_initial_state,\n",
    "                                                                 farquharwheat_axes_initial_state,\n",
    "                                                                 shared_elements_inputs_outputs_df,\n",
    "                                                                 update_parameters_farquharwheat,\n",
    "                                                                 update_shared_df=UPDATE_SHARED_DF)\n",
    "\n",
    "# -- GROWTHWHEAT --\n",
    "# Initial states    \n",
    "growthwheat_hiddenzones_initial_state = inputs_dataframes[HIDDENZONES_INITIAL_STATE_FILENAME][\n",
    "    growthwheat_facade.converter.HIDDENZONE_TOPOLOGY_COLUMNS +\n",
    "    [i for i in growthwheat_facade.simulation.HIDDENZONE_INPUTS if i in inputs_dataframes[HIDDENZONES_INITIAL_STATE_FILENAME].columns]].copy()\n",
    "\n",
    "growthwheat_elements_initial_state = inputs_dataframes[ELEMENTS_INITIAL_STATE_FILENAME][\n",
    "    growthwheat_facade.converter.ELEMENT_TOPOLOGY_COLUMNS +\n",
    "    [i for i in growthwheat_facade.simulation.ELEMENT_INPUTS if i in inputs_dataframes[ELEMENTS_INITIAL_STATE_FILENAME].columns]].copy()\n",
    "\n",
    "growthwheat_root_initial_state = inputs_dataframes[ORGANS_INITIAL_STATE_FILENAME].loc[inputs_dataframes[ORGANS_INITIAL_STATE_FILENAME]['organ'] == 'roots'][\n",
    "    growthwheat_facade.converter.ROOT_TOPOLOGY_COLUMNS +\n",
    "    [i for i in growthwheat_facade.simulation.ROOT_INPUTS if i in inputs_dataframes[ORGANS_INITIAL_STATE_FILENAME].columns]].copy()\n",
    "\n",
    "growthwheat_axes_initial_state = inputs_dataframes[AXES_INITIAL_STATE_FILENAME][\n",
    "    growthwheat_facade.converter.AXIS_TOPOLOGY_COLUMNS +\n",
    "    [i for i in growthwheat_facade.simulation.AXIS_INPUTS if i in inputs_dataframes[AXES_INITIAL_STATE_FILENAME].columns]].copy()\n",
    "\n",
    "# Update parameters if specified\n",
    "if update_parameters_all_models and 'growthwheat' in update_parameters_all_models:\n",
    "    update_parameters_growthwheat = update_parameters_all_models['growthwheat']\n",
    "else:\n",
    "    update_parameters_growthwheat = None\n",
    "\n",
    "# Facade initialisation\n",
    "growthwheat_facade_ = growthwheat_facade.GrowthWheatFacade(g,\n",
    "                                                           GROWTHWHEAT_TIMESTEP * HOUR_TO_SECOND_CONVERSION_FACTOR,\n",
    "                                                           growthwheat_hiddenzones_initial_state,\n",
    "                                                           growthwheat_elements_initial_state,\n",
    "                                                           growthwheat_root_initial_state,\n",
    "                                                           growthwheat_axes_initial_state,\n",
    "                                                           shared_organs_inputs_outputs_df,\n",
    "                                                           shared_hiddenzones_inputs_outputs_df,\n",
    "                                                           shared_elements_inputs_outputs_df,\n",
    "                                                           shared_axes_inputs_outputs_df,\n",
    "                                                           update_parameters_growthwheat,\n",
    "                                                           update_shared_df=UPDATE_SHARED_DF)\n",
    "\n",
    "# -- CNWHEAT --\n",
    "# Initial states    \n",
    "cnwheat_organs_initial_state = inputs_dataframes[ORGANS_INITIAL_STATE_FILENAME][\n",
    "    [i for i in cnwheat_facade.cnwheat_converter.ORGANS_VARIABLES if i in inputs_dataframes[ORGANS_INITIAL_STATE_FILENAME].columns]].copy()\n",
    "\n",
    "cnwheat_hiddenzones_initial_state = inputs_dataframes[HIDDENZONES_INITIAL_STATE_FILENAME][\n",
    "    [i for i in cnwheat_facade.cnwheat_converter.HIDDENZONE_VARIABLES if i in inputs_dataframes[HIDDENZONES_INITIAL_STATE_FILENAME].columns]].copy()\n",
    "\n",
    "cnwheat_elements_initial_state = inputs_dataframes[ELEMENTS_INITIAL_STATE_FILENAME][\n",
    "    [i for i in cnwheat_facade.cnwheat_converter.ELEMENTS_VARIABLES if i in inputs_dataframes[ELEMENTS_INITIAL_STATE_FILENAME].columns]].copy()\n",
    "\n",
    "cnwheat_soils_initial_state = inputs_dataframes[SOILS_INITIAL_STATE_FILENAME][\n",
    "    [i for i in cnwheat_facade.cnwheat_converter.SOILS_VARIABLES if i in inputs_dataframes[SOILS_INITIAL_STATE_FILENAME].columns]].copy()\n",
    "\n",
    "# Update parameters if specified\n",
    "if update_parameters_all_models and 'cnwheat' in update_parameters_all_models:\n",
    "    update_parameters_cnwheat = update_parameters_all_models['cnwheat']\n",
    "else:\n",
    "    update_parameters_cnwheat = {}\n",
    "\n",
    "# Facade initialisation\n",
    "cnwheat_facade_ = cnwheat_facade.CNWheatFacade(g,\n",
    "                                               CNWHEAT_TIMESTEP * HOUR_TO_SECOND_CONVERSION_FACTOR,\n",
    "                                               PLANT_DENSITY,\n",
    "                                               update_parameters_cnwheat,\n",
    "                                               cnwheat_organs_initial_state,\n",
    "                                               cnwheat_hiddenzones_initial_state,\n",
    "                                               cnwheat_elements_initial_state,\n",
    "                                               cnwheat_soils_initial_state,\n",
    "                                               shared_axes_inputs_outputs_df,\n",
    "                                               shared_organs_inputs_outputs_df,\n",
    "                                               shared_hiddenzones_inputs_outputs_df,\n",
    "                                               shared_elements_inputs_outputs_df,\n",
    "                                               shared_soils_inputs_outputs_df,\n",
    "                                               update_shared_df=UPDATE_SHARED_DF)\n",
    "\n",
    "# Run cnwheat with constant nitrates concentration in the soil if specified\n",
    "if N_fertilizations is not None and 'constant_Conc_Nitrates' in N_fertilizations.keys():\n",
    "    cnwheat_facade_.soils[(1, 'MS')].constant_Conc_Nitrates = True  # TODO: make (1, 'MS') more general\n",
    "    cnwheat_facade_.soils[(1, 'MS')].nitrates = N_fertilizations['constant_Conc_Nitrates'] * cnwheat_facade_.soils[(1, 'MS')].volume\n",
    "\n",
    "# -- FSPMWHEAT --\n",
    "# Facade initialisation\n",
    "fspmwheat_facade_ = fspmwheat_facade.FSPMWheatFacade(g)\n",
    "\n",
    "# Update geometry\n",
    "g = adel_wheat.update_geometry(g)\n",
    "g.reindex()"
   ]
  },
  {
   "cell_type": "code",
   "execution_count": 5,
   "id": "92c7fe47-4659-460c-9f8d-8ab1aa688d1b",
   "metadata": {},
   "outputs": [
    {
     "data": {
      "text/plain": [
       "{'edge_type': '<',\n",
       " 'label': 'StemElement',\n",
       " 'azimuth': 183.6433947,\n",
       " 'length': 0.0,\n",
       " 'green_area': 0.0,\n",
       " 'senesced_length': 0.0,\n",
       " 'inclination': 0,\n",
       " 'area': 0.0,\n",
       " 'green_length': 0.0,\n",
       " 'senesced_area': 0.0,\n",
       " 'is_green': True}"
      ]
     },
     "execution_count": 5,
     "metadata": {},
     "output_type": "execute_result"
    }
   ],
   "source": [
    "g.node(11).properties()"
   ]
  },
  {
   "cell_type": "code",
   "execution_count": 8,
   "id": "f502923e-12d5-4c47-9bfb-4614ecdd8556",
   "metadata": {},
   "outputs": [
    {
     "data": {
      "text/plain": [
       "{'edge_type': '<', 'label': 'baseElement'}"
      ]
     },
     "execution_count": 8,
     "metadata": {},
     "output_type": "execute_result"
    }
   ],
   "source": [
    "g.node(25).properties()"
   ]
  },
  {
   "cell_type": "code",
   "execution_count": 7,
   "id": "c7d1662a-010f-4c3d-9df7-b1f663231dac",
   "metadata": {
    "collapsed": true,
    "jupyter": {
     "outputs_hidden": true
    },
    "tags": []
   },
   "outputs": [
    {
     "name": "stdout",
     "output_type": "stream",
     "text": [
      "MTG : nb_vertices=160, nb_scales=6\n",
      "/plant1\t\t\t(id=1)\t\t\t\t\t\t\t\t\t\t\t\n",
      "^/MS\t\t\t(id=2)\t\t\t\t\t\t\t\t\t\t\t\n",
      "^/metamer0\t\t\t(id=3)\t\t\t\t\t\t\t\t\t\t\t\n",
      "^/collar\t\t\t(id=4)\t\t\t\t\t\t\t\t\t\t\t\n",
      "^/baseElement\t\t\t(id=5)\t\t\t\t\t\t\t\t\t\t\t\n",
      "^<topElement\t\t\t(id=6)\t\t\t\t\t\t\t\t\t\t\t\n",
      "^<metamer1\t\t\t(id=7)\t\t\t\t\t\t\t\t\t\t\t\n",
      "^/internode\t\t\t(id=8)\t\t\t\t\t\t\t\t\t\t\t\n",
      "^/baseElement\t\t\t(id=9)\t\t\t\t\t\t\t\t\t\t\t\n",
      "^<HiddenElement\t\t\t(id=10)\t\t\t\t\t\t\t\t\t\t\t\n",
      "^<StemElement\t\t\t(id=11)\t\t\t\t\t\t\t\t\t\t\t\n",
      "^<topElement\t\t\t(id=12)\t\t\t\t\t\t\t\t\t\t\t\n",
      "\t+sheath\t\t\t(id=13)\t\t\t\t\t\t\t\t\t\t\n",
      "\t^/baseElement\t\t\t(id=14)\t\t\t\t\t\t\t\t\t\t\n",
      "\t^<HiddenElement\t\t\t(id=15)\t\t\t\t\t\t\t\t\t\t\n",
      "\t^<StemElement\t\t\t(id=16)\t\t\t\t\t\t\t\t\t\t\n",
      "\t^<topElement\t\t\t(id=17)\t\t\t\t\t\t\t\t\t\t\n",
      "\t^<blade\t\t\t(id=18)\t\t\t\t\t\t\t\t\t\t\n",
      "\t^/baseElement\t\t\t(id=19)\t\t\t\t\t\t\t\t\t\t\n",
      "\t^<HiddenElement\t\t\t(id=20)\t\t\t\t\t\t\t\t\t\t\n",
      "\t^<LeafElement1\t\t\t(id=21)\t\t\t\t\t\t\t\t\t\t\n",
      "\t^<topElement\t\t\t(id=22)\t\t\t\t\t\t\t\t\t\t\n",
      "^<metamer2\t\t\t(id=23)\t\t\t\t\t\t\t\t\t\t\t\n",
      "^/internode\t\t\t(id=24)\t\t\t\t\t\t\t\t\t\t\t\n",
      "^/baseElement\t\t\t(id=25)\t\t\t\t\t\t\t\t\t\t\t\n",
      "^<HiddenElement\t\t\t(id=26)\t\t\t\t\t\t\t\t\t\t\t\n",
      "^<StemElement\t\t\t(id=27)\t\t\t\t\t\t\t\t\t\t\t\n",
      "^<topElement\t\t\t(id=28)\t\t\t\t\t\t\t\t\t\t\t\n",
      "\t+sheath\t\t\t(id=29)\t\t\t\t\t\t\t\t\t\t\n",
      "\t^/baseElement\t\t\t(id=30)\t\t\t\t\t\t\t\t\t\t\n",
      "\t^<HiddenElement\t\t\t(id=31)\t\t\t\t\t\t\t\t\t\t\n",
      "\t^<StemElement\t\t\t(id=32)\t\t\t\t\t\t\t\t\t\t\n",
      "\t^<topElement\t\t\t(id=33)\t\t\t\t\t\t\t\t\t\t\n",
      "\t^<blade\t\t\t(id=34)\t\t\t\t\t\t\t\t\t\t\n",
      "\t^/baseElement\t\t\t(id=35)\t\t\t\t\t\t\t\t\t\t\n",
      "\t^<HiddenElement\t\t\t(id=36)\t\t\t\t\t\t\t\t\t\t\n",
      "\t^<LeafElement1\t\t\t(id=37)\t\t\t\t\t\t\t\t\t\t\n",
      "\t^<topElement\t\t\t(id=38)\t\t\t\t\t\t\t\t\t\t\n",
      "^<metamer3\t\t\t(id=39)\t\t\t\t\t\t\t\t\t\t\t\n",
      "^/internode\t\t\t(id=40)\t\t\t\t\t\t\t\t\t\t\t\n",
      "^/baseElement\t\t\t(id=41)\t\t\t\t\t\t\t\t\t\t\t\n",
      "^<HiddenElement\t\t\t(id=42)\t\t\t\t\t\t\t\t\t\t\t\n",
      "^<StemElement\t\t\t(id=43)\t\t\t\t\t\t\t\t\t\t\t\n",
      "^<topElement\t\t\t(id=44)\t\t\t\t\t\t\t\t\t\t\t\n",
      "\t+sheath\t\t\t(id=45)\t\t\t\t\t\t\t\t\t\t\n",
      "\t^/baseElement\t\t\t(id=46)\t\t\t\t\t\t\t\t\t\t\n",
      "\t^<HiddenElement\t\t\t(id=47)\t\t\t\t\t\t\t\t\t\t\n",
      "\t^<StemElement\t\t\t(id=48)\t\t\t\t\t\t\t\t\t\t\n",
      "\t^<topElement\t\t\t(id=49)\t\t\t\t\t\t\t\t\t\t\n",
      "\t^<blade\t\t\t(id=50)\t\t\t\t\t\t\t\t\t\t\n",
      "\t^/baseElement\t\t\t(id=51)\t\t\t\t\t\t\t\t\t\t\n",
      "\t^<HiddenElement\t\t\t(id=52)\t\t\t\t\t\t\t\t\t\t\n",
      "\t^<LeafElement1\t\t\t(id=53)\t\t\t\t\t\t\t\t\t\t\n",
      "\t^<topElement\t\t\t(id=54)\t\t\t\t\t\t\t\t\t\t\n",
      "^<metamer4\t\t\t(id=55)\t\t\t\t\t\t\t\t\t\t\t\n",
      "^/internode\t\t\t(id=56)\t\t\t\t\t\t\t\t\t\t\t\n",
      "^/baseElement\t\t\t(id=57)\t\t\t\t\t\t\t\t\t\t\t\n",
      "^<HiddenElement\t\t\t(id=58)\t\t\t\t\t\t\t\t\t\t\t\n",
      "^<StemElement\t\t\t(id=59)\t\t\t\t\t\t\t\t\t\t\t\n",
      "^<topElement\t\t\t(id=60)\t\t\t\t\t\t\t\t\t\t\t\n",
      "\t+sheath\t\t\t(id=61)\t\t\t\t\t\t\t\t\t\t\n",
      "\t^/baseElement\t\t\t(id=62)\t\t\t\t\t\t\t\t\t\t\n",
      "\t^<HiddenElement\t\t\t(id=63)\t\t\t\t\t\t\t\t\t\t\n",
      "\t^<StemElement\t\t\t(id=64)\t\t\t\t\t\t\t\t\t\t\n",
      "\t^<topElement\t\t\t(id=65)\t\t\t\t\t\t\t\t\t\t\n",
      "\t^<blade\t\t\t(id=66)\t\t\t\t\t\t\t\t\t\t\n",
      "\t^/baseElement\t\t\t(id=67)\t\t\t\t\t\t\t\t\t\t\n",
      "\t^<HiddenElement\t\t\t(id=68)\t\t\t\t\t\t\t\t\t\t\n",
      "\t^<topElement\t\t\t(id=69)\t\t\t\t\t\t\t\t\t\t\n",
      "^<metamer5\t\t\t(id=70)\t\t\t\t\t\t\t\t\t\t\t\n",
      "^/internode\t\t\t(id=71)\t\t\t\t\t\t\t\t\t\t\t\n",
      "^/baseElement\t\t\t(id=72)\t\t\t\t\t\t\t\t\t\t\t\n",
      "^<HiddenElement\t\t\t(id=73)\t\t\t\t\t\t\t\t\t\t\t\n",
      "^<StemElement\t\t\t(id=74)\t\t\t\t\t\t\t\t\t\t\t\n",
      "^<topElement\t\t\t(id=75)\t\t\t\t\t\t\t\t\t\t\t\n",
      "\t+sheath\t\t\t(id=76)\t\t\t\t\t\t\t\t\t\t\n",
      "\t^/baseElement\t\t\t(id=77)\t\t\t\t\t\t\t\t\t\t\n",
      "\t^<HiddenElement\t\t\t(id=78)\t\t\t\t\t\t\t\t\t\t\n",
      "\t^<StemElement\t\t\t(id=79)\t\t\t\t\t\t\t\t\t\t\n",
      "\t^<topElement\t\t\t(id=80)\t\t\t\t\t\t\t\t\t\t\n",
      "\t^<blade\t\t\t(id=81)\t\t\t\t\t\t\t\t\t\t\n",
      "\t^/baseElement\t\t\t(id=82)\t\t\t\t\t\t\t\t\t\t\n",
      "\t^<HiddenElement\t\t\t(id=83)\t\t\t\t\t\t\t\t\t\t\n",
      "\t^<topElement\t\t\t(id=84)\t\t\t\t\t\t\t\t\t\t\n",
      "^<metamer6\t\t\t(id=85)\t\t\t\t\t\t\t\t\t\t\t\n",
      "^/internode\t\t\t(id=86)\t\t\t\t\t\t\t\t\t\t\t\n",
      "^/baseElement\t\t\t(id=87)\t\t\t\t\t\t\t\t\t\t\t\n",
      "^<HiddenElement\t\t\t(id=88)\t\t\t\t\t\t\t\t\t\t\t\n",
      "^<StemElement\t\t\t(id=89)\t\t\t\t\t\t\t\t\t\t\t\n",
      "^<topElement\t\t\t(id=90)\t\t\t\t\t\t\t\t\t\t\t\n",
      "\t+sheath\t\t\t(id=91)\t\t\t\t\t\t\t\t\t\t\n",
      "\t^/baseElement\t\t\t(id=92)\t\t\t\t\t\t\t\t\t\t\n",
      "\t^<HiddenElement\t\t\t(id=93)\t\t\t\t\t\t\t\t\t\t\n",
      "\t^<StemElement\t\t\t(id=94)\t\t\t\t\t\t\t\t\t\t\n",
      "\t^<topElement\t\t\t(id=95)\t\t\t\t\t\t\t\t\t\t\n",
      "\t^<blade\t\t\t(id=96)\t\t\t\t\t\t\t\t\t\t\n",
      "\t^/baseElement\t\t\t(id=97)\t\t\t\t\t\t\t\t\t\t\n",
      "\t^<HiddenElement\t\t\t(id=98)\t\t\t\t\t\t\t\t\t\t\n",
      "\t^<topElement\t\t\t(id=99)\t\t\t\t\t\t\t\t\t\t\n",
      "^<metamer7\t\t\t(id=100)\t\t\t\t\t\t\t\t\t\t\t\n",
      "^/internode\t\t\t(id=101)\t\t\t\t\t\t\t\t\t\t\t\n",
      "^/baseElement\t\t\t(id=102)\t\t\t\t\t\t\t\t\t\t\t\n",
      "^<HiddenElement\t\t\t(id=103)\t\t\t\t\t\t\t\t\t\t\t\n",
      "^<StemElement\t\t\t(id=104)\t\t\t\t\t\t\t\t\t\t\t\n",
      "^<topElement\t\t\t(id=105)\t\t\t\t\t\t\t\t\t\t\t\n",
      "\t+sheath\t\t\t(id=106)\t\t\t\t\t\t\t\t\t\t\n",
      "\t^/baseElement\t\t\t(id=107)\t\t\t\t\t\t\t\t\t\t\n",
      "\t^<HiddenElement\t\t\t(id=108)\t\t\t\t\t\t\t\t\t\t\n",
      "\t^<StemElement\t\t\t(id=109)\t\t\t\t\t\t\t\t\t\t\n",
      "\t^<topElement\t\t\t(id=110)\t\t\t\t\t\t\t\t\t\t\n",
      "\t^<blade\t\t\t(id=111)\t\t\t\t\t\t\t\t\t\t\n",
      "\t^/baseElement\t\t\t(id=112)\t\t\t\t\t\t\t\t\t\t\n",
      "\t^<HiddenElement\t\t\t(id=113)\t\t\t\t\t\t\t\t\t\t\n",
      "\t^<topElement\t\t\t(id=114)\t\t\t\t\t\t\t\t\t\t\n",
      "^<metamer8\t\t\t(id=115)\t\t\t\t\t\t\t\t\t\t\t\n",
      "^/internode\t\t\t(id=116)\t\t\t\t\t\t\t\t\t\t\t\n",
      "^/baseElement\t\t\t(id=117)\t\t\t\t\t\t\t\t\t\t\t\n",
      "^<HiddenElement\t\t\t(id=118)\t\t\t\t\t\t\t\t\t\t\t\n",
      "^<StemElement\t\t\t(id=119)\t\t\t\t\t\t\t\t\t\t\t\n",
      "^<topElement\t\t\t(id=120)\t\t\t\t\t\t\t\t\t\t\t\n",
      "\t+sheath\t\t\t(id=121)\t\t\t\t\t\t\t\t\t\t\n",
      "\t^/baseElement\t\t\t(id=122)\t\t\t\t\t\t\t\t\t\t\n",
      "\t^<HiddenElement\t\t\t(id=123)\t\t\t\t\t\t\t\t\t\t\n",
      "\t^<StemElement\t\t\t(id=124)\t\t\t\t\t\t\t\t\t\t\n",
      "\t^<topElement\t\t\t(id=125)\t\t\t\t\t\t\t\t\t\t\n",
      "\t^<blade\t\t\t(id=126)\t\t\t\t\t\t\t\t\t\t\n",
      "\t^/baseElement\t\t\t(id=127)\t\t\t\t\t\t\t\t\t\t\n",
      "\t^<HiddenElement\t\t\t(id=128)\t\t\t\t\t\t\t\t\t\t\n",
      "\t^<topElement\t\t\t(id=129)\t\t\t\t\t\t\t\t\t\t\n",
      "^<metamer9\t\t\t(id=130)\t\t\t\t\t\t\t\t\t\t\t\n",
      "^/internode\t\t\t(id=131)\t\t\t\t\t\t\t\t\t\t\t\n",
      "^/baseElement\t\t\t(id=132)\t\t\t\t\t\t\t\t\t\t\t\n",
      "^<HiddenElement\t\t\t(id=133)\t\t\t\t\t\t\t\t\t\t\t\n",
      "^<StemElement\t\t\t(id=134)\t\t\t\t\t\t\t\t\t\t\t\n",
      "^<topElement\t\t\t(id=135)\t\t\t\t\t\t\t\t\t\t\t\n",
      "\t+sheath\t\t\t(id=136)\t\t\t\t\t\t\t\t\t\t\n",
      "\t^/baseElement\t\t\t(id=137)\t\t\t\t\t\t\t\t\t\t\n",
      "\t^<HiddenElement\t\t\t(id=138)\t\t\t\t\t\t\t\t\t\t\n",
      "\t^<StemElement\t\t\t(id=139)\t\t\t\t\t\t\t\t\t\t\n",
      "\t^<topElement\t\t\t(id=140)\t\t\t\t\t\t\t\t\t\t\n",
      "\t^<blade\t\t\t(id=141)\t\t\t\t\t\t\t\t\t\t\n",
      "\t^/baseElement\t\t\t(id=142)\t\t\t\t\t\t\t\t\t\t\n",
      "\t^<HiddenElement\t\t\t(id=143)\t\t\t\t\t\t\t\t\t\t\n",
      "\t^<topElement\t\t\t(id=144)\t\t\t\t\t\t\t\t\t\t\n",
      "^<metamer10\t\t\t(id=145)\t\t\t\t\t\t\t\t\t\t\t\n",
      "^/internode\t\t\t(id=146)\t\t\t\t\t\t\t\t\t\t\t\n",
      "^/baseElement\t\t\t(id=147)\t\t\t\t\t\t\t\t\t\t\t\n",
      "^<HiddenElement\t\t\t(id=148)\t\t\t\t\t\t\t\t\t\t\t\n",
      "^<StemElement\t\t\t(id=149)\t\t\t\t\t\t\t\t\t\t\t\n",
      "^<topElement\t\t\t(id=150)\t\t\t\t\t\t\t\t\t\t\t\n",
      "\t+sheath\t\t\t(id=151)\t\t\t\t\t\t\t\t\t\t\n",
      "\t^/baseElement\t\t\t(id=152)\t\t\t\t\t\t\t\t\t\t\n",
      "\t^<HiddenElement\t\t\t(id=153)\t\t\t\t\t\t\t\t\t\t\n",
      "\t^<StemElement\t\t\t(id=154)\t\t\t\t\t\t\t\t\t\t\n",
      "\t^<topElement\t\t\t(id=155)\t\t\t\t\t\t\t\t\t\t\n",
      "\t^<blade\t\t\t(id=156)\t\t\t\t\t\t\t\t\t\t\n",
      "\t^/baseElement\t\t\t(id=157)\t\t\t\t\t\t\t\t\t\t\n",
      "\t^<HiddenElement\t\t\t(id=158)\t\t\t\t\t\t\t\t\t\t\n",
      "\t^<topElement\t\t\t(id=159)\t\t\t\t\t\t\t\t\t\t\n"
     ]
    }
   ],
   "source": [
    "g.display()"
   ]
  },
  {
   "cell_type": "code",
   "execution_count": 3,
   "id": "08b26380-fa8d-41af-a292-9167e3e095bd",
   "metadata": {
    "collapsed": true,
    "jupyter": {
     "outputs_hidden": true
    },
    "tags": []
   },
   "outputs": [
    {
     "name": "stdout",
     "output_type": "stream",
     "text": [
      "MTG : nb_vertices=160, nb_scales=6\n",
      "/plant1\t\t\t(id=1)\t\t\t\t\t\t\t\t\t\t\t\n",
      "^/MS\t\t\t(id=2)\t\t\t\t\t\t\t\t\t\t\t\n",
      "^/metamer0\t\t\t(id=3)\t\t\t\t\t\t\t\t\t\t\t\n",
      "^/collar\t\t\t(id=4)\t\t\t\t\t\t\t\t\t\t\t\n",
      "^/baseElement\t\t\t(id=5)\t\t\t\t\t\t\t\t\t\t\t\n",
      "^<topElement\t\t\t(id=6)\t\t\t\t\t\t\t\t\t\t\t\n",
      "^<metamer1\t\t\t(id=7)\t\t\t\t\t\t\t\t\t\t\t\n",
      "^/internode\t\t\t(id=8)\t\t\t\t\t\t\t\t\t\t\t\n",
      "^/baseElement\t\t\t(id=9)\t\t\t\t\t\t\t\t\t\t\t\n",
      "^<HiddenElement\t\t\t(id=10)\t\t\t\t\t\t\t\t\t\t\t\n",
      "^<StemElement\t\t\t(id=11)\t\t\t\t\t\t\t\t\t\t\t\n",
      "^<topElement\t\t\t(id=12)\t\t\t\t\t\t\t\t\t\t\t\n",
      "\t+sheath\t\t\t(id=13)\t\t\t\t\t\t\t\t\t\t\n",
      "\t^/baseElement\t\t\t(id=14)\t\t\t\t\t\t\t\t\t\t\n",
      "\t^<HiddenElement\t\t\t(id=15)\t\t\t\t\t\t\t\t\t\t\n",
      "\t^<StemElement\t\t\t(id=16)\t\t\t\t\t\t\t\t\t\t\n",
      "\t^<topElement\t\t\t(id=17)\t\t\t\t\t\t\t\t\t\t\n",
      "\t^<blade\t\t\t(id=18)\t\t\t\t\t\t\t\t\t\t\n",
      "\t^/baseElement\t\t\t(id=19)\t\t\t\t\t\t\t\t\t\t\n",
      "\t^<HiddenElement\t\t\t(id=20)\t\t\t\t\t\t\t\t\t\t\n",
      "\t^<LeafElement1\t\t\t(id=21)\t\t\t\t\t\t\t\t\t\t\n",
      "\t^<topElement\t\t\t(id=22)\t\t\t\t\t\t\t\t\t\t\n",
      "^<metamer2\t\t\t(id=23)\t\t\t\t\t\t\t\t\t\t\t\n",
      "^/internode\t\t\t(id=24)\t\t\t\t\t\t\t\t\t\t\t\n",
      "^/baseElement\t\t\t(id=25)\t\t\t\t\t\t\t\t\t\t\t\n",
      "^<HiddenElement\t\t\t(id=26)\t\t\t\t\t\t\t\t\t\t\t\n",
      "^<StemElement\t\t\t(id=27)\t\t\t\t\t\t\t\t\t\t\t\n",
      "^<topElement\t\t\t(id=28)\t\t\t\t\t\t\t\t\t\t\t\n",
      "\t+sheath\t\t\t(id=29)\t\t\t\t\t\t\t\t\t\t\n",
      "\t^/baseElement\t\t\t(id=30)\t\t\t\t\t\t\t\t\t\t\n",
      "\t^<HiddenElement\t\t\t(id=31)\t\t\t\t\t\t\t\t\t\t\n",
      "\t^<StemElement\t\t\t(id=32)\t\t\t\t\t\t\t\t\t\t\n",
      "\t^<topElement\t\t\t(id=33)\t\t\t\t\t\t\t\t\t\t\n",
      "\t^<blade\t\t\t(id=34)\t\t\t\t\t\t\t\t\t\t\n",
      "\t^/baseElement\t\t\t(id=35)\t\t\t\t\t\t\t\t\t\t\n",
      "\t^<HiddenElement\t\t\t(id=36)\t\t\t\t\t\t\t\t\t\t\n",
      "\t^<LeafElement1\t\t\t(id=37)\t\t\t\t\t\t\t\t\t\t\n",
      "\t^<topElement\t\t\t(id=38)\t\t\t\t\t\t\t\t\t\t\n",
      "^<metamer3\t\t\t(id=39)\t\t\t\t\t\t\t\t\t\t\t\n",
      "^/internode\t\t\t(id=40)\t\t\t\t\t\t\t\t\t\t\t\n",
      "^/baseElement\t\t\t(id=41)\t\t\t\t\t\t\t\t\t\t\t\n",
      "^<HiddenElement\t\t\t(id=42)\t\t\t\t\t\t\t\t\t\t\t\n",
      "^<StemElement\t\t\t(id=43)\t\t\t\t\t\t\t\t\t\t\t\n",
      "^<topElement\t\t\t(id=44)\t\t\t\t\t\t\t\t\t\t\t\n",
      "\t+sheath\t\t\t(id=45)\t\t\t\t\t\t\t\t\t\t\n",
      "\t^/baseElement\t\t\t(id=46)\t\t\t\t\t\t\t\t\t\t\n",
      "\t^<HiddenElement\t\t\t(id=47)\t\t\t\t\t\t\t\t\t\t\n",
      "\t^<StemElement\t\t\t(id=48)\t\t\t\t\t\t\t\t\t\t\n",
      "\t^<topElement\t\t\t(id=49)\t\t\t\t\t\t\t\t\t\t\n",
      "\t^<blade\t\t\t(id=50)\t\t\t\t\t\t\t\t\t\t\n",
      "\t^/baseElement\t\t\t(id=51)\t\t\t\t\t\t\t\t\t\t\n",
      "\t^<HiddenElement\t\t\t(id=52)\t\t\t\t\t\t\t\t\t\t\n",
      "\t^<LeafElement1\t\t\t(id=53)\t\t\t\t\t\t\t\t\t\t\n",
      "\t^<topElement\t\t\t(id=54)\t\t\t\t\t\t\t\t\t\t\n",
      "^<metamer4\t\t\t(id=55)\t\t\t\t\t\t\t\t\t\t\t\n",
      "^/internode\t\t\t(id=56)\t\t\t\t\t\t\t\t\t\t\t\n",
      "^/baseElement\t\t\t(id=57)\t\t\t\t\t\t\t\t\t\t\t\n",
      "^<HiddenElement\t\t\t(id=58)\t\t\t\t\t\t\t\t\t\t\t\n",
      "^<StemElement\t\t\t(id=59)\t\t\t\t\t\t\t\t\t\t\t\n",
      "^<topElement\t\t\t(id=60)\t\t\t\t\t\t\t\t\t\t\t\n",
      "\t+sheath\t\t\t(id=61)\t\t\t\t\t\t\t\t\t\t\n",
      "\t^/baseElement\t\t\t(id=62)\t\t\t\t\t\t\t\t\t\t\n",
      "\t^<HiddenElement\t\t\t(id=63)\t\t\t\t\t\t\t\t\t\t\n",
      "\t^<StemElement\t\t\t(id=64)\t\t\t\t\t\t\t\t\t\t\n",
      "\t^<topElement\t\t\t(id=65)\t\t\t\t\t\t\t\t\t\t\n",
      "\t^<blade\t\t\t(id=66)\t\t\t\t\t\t\t\t\t\t\n",
      "\t^/baseElement\t\t\t(id=67)\t\t\t\t\t\t\t\t\t\t\n",
      "\t^<HiddenElement\t\t\t(id=68)\t\t\t\t\t\t\t\t\t\t\n",
      "\t^<topElement\t\t\t(id=69)\t\t\t\t\t\t\t\t\t\t\n",
      "^<metamer5\t\t\t(id=70)\t\t\t\t\t\t\t\t\t\t\t\n",
      "^/internode\t\t\t(id=71)\t\t\t\t\t\t\t\t\t\t\t\n",
      "^/baseElement\t\t\t(id=72)\t\t\t\t\t\t\t\t\t\t\t\n",
      "^<HiddenElement\t\t\t(id=73)\t\t\t\t\t\t\t\t\t\t\t\n",
      "^<StemElement\t\t\t(id=74)\t\t\t\t\t\t\t\t\t\t\t\n",
      "^<topElement\t\t\t(id=75)\t\t\t\t\t\t\t\t\t\t\t\n",
      "\t+sheath\t\t\t(id=76)\t\t\t\t\t\t\t\t\t\t\n",
      "\t^/baseElement\t\t\t(id=77)\t\t\t\t\t\t\t\t\t\t\n",
      "\t^<HiddenElement\t\t\t(id=78)\t\t\t\t\t\t\t\t\t\t\n",
      "\t^<StemElement\t\t\t(id=79)\t\t\t\t\t\t\t\t\t\t\n",
      "\t^<topElement\t\t\t(id=80)\t\t\t\t\t\t\t\t\t\t\n",
      "\t^<blade\t\t\t(id=81)\t\t\t\t\t\t\t\t\t\t\n",
      "\t^/baseElement\t\t\t(id=82)\t\t\t\t\t\t\t\t\t\t\n",
      "\t^<HiddenElement\t\t\t(id=83)\t\t\t\t\t\t\t\t\t\t\n",
      "\t^<topElement\t\t\t(id=84)\t\t\t\t\t\t\t\t\t\t\n",
      "^<metamer6\t\t\t(id=85)\t\t\t\t\t\t\t\t\t\t\t\n",
      "^/internode\t\t\t(id=86)\t\t\t\t\t\t\t\t\t\t\t\n",
      "^/baseElement\t\t\t(id=87)\t\t\t\t\t\t\t\t\t\t\t\n",
      "^<HiddenElement\t\t\t(id=88)\t\t\t\t\t\t\t\t\t\t\t\n",
      "^<StemElement\t\t\t(id=89)\t\t\t\t\t\t\t\t\t\t\t\n",
      "^<topElement\t\t\t(id=90)\t\t\t\t\t\t\t\t\t\t\t\n",
      "\t+sheath\t\t\t(id=91)\t\t\t\t\t\t\t\t\t\t\n",
      "\t^/baseElement\t\t\t(id=92)\t\t\t\t\t\t\t\t\t\t\n",
      "\t^<HiddenElement\t\t\t(id=93)\t\t\t\t\t\t\t\t\t\t\n",
      "\t^<StemElement\t\t\t(id=94)\t\t\t\t\t\t\t\t\t\t\n",
      "\t^<topElement\t\t\t(id=95)\t\t\t\t\t\t\t\t\t\t\n",
      "\t^<blade\t\t\t(id=96)\t\t\t\t\t\t\t\t\t\t\n",
      "\t^/baseElement\t\t\t(id=97)\t\t\t\t\t\t\t\t\t\t\n",
      "\t^<HiddenElement\t\t\t(id=98)\t\t\t\t\t\t\t\t\t\t\n",
      "\t^<topElement\t\t\t(id=99)\t\t\t\t\t\t\t\t\t\t\n",
      "^<metamer7\t\t\t(id=100)\t\t\t\t\t\t\t\t\t\t\t\n",
      "^/internode\t\t\t(id=101)\t\t\t\t\t\t\t\t\t\t\t\n",
      "^/baseElement\t\t\t(id=102)\t\t\t\t\t\t\t\t\t\t\t\n",
      "^<HiddenElement\t\t\t(id=103)\t\t\t\t\t\t\t\t\t\t\t\n",
      "^<StemElement\t\t\t(id=104)\t\t\t\t\t\t\t\t\t\t\t\n",
      "^<topElement\t\t\t(id=105)\t\t\t\t\t\t\t\t\t\t\t\n",
      "\t+sheath\t\t\t(id=106)\t\t\t\t\t\t\t\t\t\t\n",
      "\t^/baseElement\t\t\t(id=107)\t\t\t\t\t\t\t\t\t\t\n",
      "\t^<HiddenElement\t\t\t(id=108)\t\t\t\t\t\t\t\t\t\t\n",
      "\t^<StemElement\t\t\t(id=109)\t\t\t\t\t\t\t\t\t\t\n",
      "\t^<topElement\t\t\t(id=110)\t\t\t\t\t\t\t\t\t\t\n",
      "\t^<blade\t\t\t(id=111)\t\t\t\t\t\t\t\t\t\t\n",
      "\t^/baseElement\t\t\t(id=112)\t\t\t\t\t\t\t\t\t\t\n",
      "\t^<HiddenElement\t\t\t(id=113)\t\t\t\t\t\t\t\t\t\t\n",
      "\t^<topElement\t\t\t(id=114)\t\t\t\t\t\t\t\t\t\t\n",
      "^<metamer8\t\t\t(id=115)\t\t\t\t\t\t\t\t\t\t\t\n",
      "^/internode\t\t\t(id=116)\t\t\t\t\t\t\t\t\t\t\t\n",
      "^/baseElement\t\t\t(id=117)\t\t\t\t\t\t\t\t\t\t\t\n",
      "^<HiddenElement\t\t\t(id=118)\t\t\t\t\t\t\t\t\t\t\t\n",
      "^<StemElement\t\t\t(id=119)\t\t\t\t\t\t\t\t\t\t\t\n",
      "^<topElement\t\t\t(id=120)\t\t\t\t\t\t\t\t\t\t\t\n",
      "\t+sheath\t\t\t(id=121)\t\t\t\t\t\t\t\t\t\t\n",
      "\t^/baseElement\t\t\t(id=122)\t\t\t\t\t\t\t\t\t\t\n",
      "\t^<HiddenElement\t\t\t(id=123)\t\t\t\t\t\t\t\t\t\t\n",
      "\t^<StemElement\t\t\t(id=124)\t\t\t\t\t\t\t\t\t\t\n",
      "\t^<topElement\t\t\t(id=125)\t\t\t\t\t\t\t\t\t\t\n",
      "\t^<blade\t\t\t(id=126)\t\t\t\t\t\t\t\t\t\t\n",
      "\t^/baseElement\t\t\t(id=127)\t\t\t\t\t\t\t\t\t\t\n",
      "\t^<HiddenElement\t\t\t(id=128)\t\t\t\t\t\t\t\t\t\t\n",
      "\t^<topElement\t\t\t(id=129)\t\t\t\t\t\t\t\t\t\t\n",
      "^<metamer9\t\t\t(id=130)\t\t\t\t\t\t\t\t\t\t\t\n",
      "^/internode\t\t\t(id=131)\t\t\t\t\t\t\t\t\t\t\t\n",
      "^/baseElement\t\t\t(id=132)\t\t\t\t\t\t\t\t\t\t\t\n",
      "^<HiddenElement\t\t\t(id=133)\t\t\t\t\t\t\t\t\t\t\t\n",
      "^<StemElement\t\t\t(id=134)\t\t\t\t\t\t\t\t\t\t\t\n",
      "^<topElement\t\t\t(id=135)\t\t\t\t\t\t\t\t\t\t\t\n",
      "\t+sheath\t\t\t(id=136)\t\t\t\t\t\t\t\t\t\t\n",
      "\t^/baseElement\t\t\t(id=137)\t\t\t\t\t\t\t\t\t\t\n",
      "\t^<HiddenElement\t\t\t(id=138)\t\t\t\t\t\t\t\t\t\t\n",
      "\t^<StemElement\t\t\t(id=139)\t\t\t\t\t\t\t\t\t\t\n",
      "\t^<topElement\t\t\t(id=140)\t\t\t\t\t\t\t\t\t\t\n",
      "\t^<blade\t\t\t(id=141)\t\t\t\t\t\t\t\t\t\t\n",
      "\t^/baseElement\t\t\t(id=142)\t\t\t\t\t\t\t\t\t\t\n",
      "\t^<HiddenElement\t\t\t(id=143)\t\t\t\t\t\t\t\t\t\t\n",
      "\t^<topElement\t\t\t(id=144)\t\t\t\t\t\t\t\t\t\t\n",
      "^<metamer10\t\t\t(id=145)\t\t\t\t\t\t\t\t\t\t\t\n",
      "^/internode\t\t\t(id=146)\t\t\t\t\t\t\t\t\t\t\t\n",
      "^/baseElement\t\t\t(id=147)\t\t\t\t\t\t\t\t\t\t\t\n",
      "^<HiddenElement\t\t\t(id=148)\t\t\t\t\t\t\t\t\t\t\t\n",
      "^<StemElement\t\t\t(id=149)\t\t\t\t\t\t\t\t\t\t\t\n",
      "^<topElement\t\t\t(id=150)\t\t\t\t\t\t\t\t\t\t\t\n",
      "\t+sheath\t\t\t(id=151)\t\t\t\t\t\t\t\t\t\t\n",
      "\t^/baseElement\t\t\t(id=152)\t\t\t\t\t\t\t\t\t\t\n",
      "\t^<HiddenElement\t\t\t(id=153)\t\t\t\t\t\t\t\t\t\t\n",
      "\t^<StemElement\t\t\t(id=154)\t\t\t\t\t\t\t\t\t\t\n",
      "\t^<topElement\t\t\t(id=155)\t\t\t\t\t\t\t\t\t\t\n",
      "\t^<blade\t\t\t(id=156)\t\t\t\t\t\t\t\t\t\t\n",
      "\t^/baseElement\t\t\t(id=157)\t\t\t\t\t\t\t\t\t\t\n",
      "\t^<HiddenElement\t\t\t(id=158)\t\t\t\t\t\t\t\t\t\t\n",
      "\t^<topElement\t\t\t(id=159)\t\t\t\t\t\t\t\t\t\t\n"
     ]
    }
   ],
   "source": [
    "g.display()"
   ]
  },
  {
   "cell_type": "code",
   "execution_count": 4,
   "id": "909aeec3-2a48-481d-a8b6-834329a4b180",
   "metadata": {
    "tags": []
   },
   "outputs": [
    {
     "data": {
      "text/plain": [
       "0"
      ]
     },
     "execution_count": 4,
     "metadata": {},
     "output_type": "execute_result"
    }
   ],
   "source": [
    "from openalea.plantgl.all import Viewer, Scene\n",
    "adel_wheat.plot(g)\n",
    "Viewer.waitSelection()"
   ]
  },
  {
   "cell_type": "code",
   "execution_count": 76,
   "id": "f10f048f-d224-4c77-a5cc-485b09a4d261",
   "metadata": {},
   "outputs": [
    {
     "name": "stdout",
     "output_type": "stream",
     "text": [
      "['plant1', 'MS', 'metamer0', 'collar', 'baseElement']\n"
     ]
    }
   ],
   "source": [
    "vtxList = [k for k,v in g.property('edge_type').items() if v=='/']\n",
    "names = [ g.property('label')[vid] for vid in vtxList ]\n",
    "print(names)"
   ]
  },
  {
   "cell_type": "code",
   "execution_count": 3,
   "id": "f1c32d41-7d32-4244-8181-faf87630db2e",
   "metadata": {
    "collapsed": true,
    "jupyter": {
     "outputs_hidden": true
    },
    "tags": []
   },
   "outputs": [
    {
     "name": "stdout",
     "output_type": "stream",
     "text": [
      "MTG : nb_vertices=178, nb_scales=6\n",
      "/plant1\t\t\t(id=1)\t\t\t\t\t\t\t\t\t\t\t\n",
      "^/MS\t\t\t(id=2)\t\t\t\t\t\t\t\t\t\t\t\n",
      "^/metamer0\t\t\t(id=3)\t\t\t\t\t\t\t\t\t\t\t\n",
      "^/collar\t\t\t(id=4)\t\t\t\t\t\t\t\t\t\t\t\n",
      "^/baseElement\t\t\t(id=5)\t\t\t\t\t\t\t\t\t\t\t\n",
      "^<topElement\t\t\t(id=6)\t\t\t\t\t\t\t\t\t\t\t\n",
      "^<metamer1\t\t\t(id=7)\t\t\t\t\t\t\t\t\t\t\t\n",
      "^/internode\t\t\t(id=8)\t\t\t\t\t\t\t\t\t\t\t\n",
      "^/baseElement\t\t\t(id=9)\t\t\t\t\t\t\t\t\t\t\t\n",
      "^<HiddenElement\t\t\t(id=108)\t\t\t\t\t\t\t\t\t\t\t\n",
      "^<StemElement\t\t\t(id=107)\t\t\t\t\t\t\t\t\t\t\t\n",
      "^<topElement\t\t\t(id=10)\t\t\t\t\t\t\t\t\t\t\t\n",
      "\t+sheath\t\t\t(id=11)\t\t\t\t\t\t\t\t\t\t\n",
      "\t^/baseElement\t\t\t(id=12)\t\t\t\t\t\t\t\t\t\t\n",
      "\t^<HiddenElement\t\t\t(id=110)\t\t\t\t\t\t\t\t\t\t\n",
      "\t^<StemElement\t\t\t(id=109)\t\t\t\t\t\t\t\t\t\t\n",
      "\t^<topElement\t\t\t(id=13)\t\t\t\t\t\t\t\t\t\t\n",
      "\t^<blade\t\t\t(id=14)\t\t\t\t\t\t\t\t\t\t\n",
      "\t^/baseElement\t\t\t(id=15)\t\t\t\t\t\t\t\t\t\t\n",
      "\t^<HiddenElement\t\t\t(id=111)\t\t\t\t\t\t\t\t\t\t\n",
      "\t^<LeafElement1\t\t\t(id=157)\t\t\t\t\t\t\t\t\t\t\n",
      "\t^<topElement\t\t\t(id=16)\t\t\t\t\t\t\t\t\t\t\n",
      "^<metamer2\t\t\t(id=17)\t\t\t\t\t\t\t\t\t\t\t\n",
      "^/internode\t\t\t(id=18)\t\t\t\t\t\t\t\t\t\t\t\n",
      "^/baseElement\t\t\t(id=19)\t\t\t\t\t\t\t\t\t\t\t\n",
      "^<HiddenElement\t\t\t(id=113)\t\t\t\t\t\t\t\t\t\t\t\n",
      "^<StemElement\t\t\t(id=112)\t\t\t\t\t\t\t\t\t\t\t\n",
      "^<topElement\t\t\t(id=20)\t\t\t\t\t\t\t\t\t\t\t\n",
      "\t+sheath\t\t\t(id=21)\t\t\t\t\t\t\t\t\t\t\n",
      "\t^/baseElement\t\t\t(id=22)\t\t\t\t\t\t\t\t\t\t\n",
      "\t^<HiddenElement\t\t\t(id=115)\t\t\t\t\t\t\t\t\t\t\n",
      "\t^<StemElement\t\t\t(id=114)\t\t\t\t\t\t\t\t\t\t\n",
      "\t^<topElement\t\t\t(id=23)\t\t\t\t\t\t\t\t\t\t\n",
      "\t^<blade\t\t\t(id=24)\t\t\t\t\t\t\t\t\t\t\n",
      "\t^/baseElement\t\t\t(id=25)\t\t\t\t\t\t\t\t\t\t\n",
      "\t^<HiddenElement\t\t\t(id=116)\t\t\t\t\t\t\t\t\t\t\n",
      "\t^<LeafElement1\t\t\t(id=158)\t\t\t\t\t\t\t\t\t\t\n",
      "\t^<topElement\t\t\t(id=26)\t\t\t\t\t\t\t\t\t\t\n",
      "^<metamer3\t\t\t(id=27)\t\t\t\t\t\t\t\t\t\t\t\n",
      "^/internode\t\t\t(id=28)\t\t\t\t\t\t\t\t\t\t\t\n",
      "^/baseElement\t\t\t(id=29)\t\t\t\t\t\t\t\t\t\t\t\n",
      "^<HiddenElement\t\t\t(id=118)\t\t\t\t\t\t\t\t\t\t\t\n",
      "^<StemElement\t\t\t(id=117)\t\t\t\t\t\t\t\t\t\t\t\n",
      "^<topElement\t\t\t(id=30)\t\t\t\t\t\t\t\t\t\t\t\n",
      "\t+sheath\t\t\t(id=31)\t\t\t\t\t\t\t\t\t\t\n",
      "\t^/baseElement\t\t\t(id=32)\t\t\t\t\t\t\t\t\t\t\n",
      "\t^<HiddenElement\t\t\t(id=120)\t\t\t\t\t\t\t\t\t\t\n",
      "\t^<StemElement\t\t\t(id=119)\t\t\t\t\t\t\t\t\t\t\n",
      "\t^<topElement\t\t\t(id=33)\t\t\t\t\t\t\t\t\t\t\n",
      "\t^<blade\t\t\t(id=34)\t\t\t\t\t\t\t\t\t\t\n",
      "\t^/baseElement\t\t\t(id=35)\t\t\t\t\t\t\t\t\t\t\n",
      "\t^<HiddenElement\t\t\t(id=121)\t\t\t\t\t\t\t\t\t\t\n",
      "\t^<LeafElement1\t\t\t(id=159)\t\t\t\t\t\t\t\t\t\t\n",
      "\t^<topElement\t\t\t(id=36)\t\t\t\t\t\t\t\t\t\t\n",
      "^<metamer4\t\t\t(id=37)\t\t\t\t\t\t\t\t\t\t\t\n",
      "^/internode\t\t\t(id=38)\t\t\t\t\t\t\t\t\t\t\t\n",
      "^/baseElement\t\t\t(id=39)\t\t\t\t\t\t\t\t\t\t\t\n",
      "^<HiddenElement\t\t\t(id=123)\t\t\t\t\t\t\t\t\t\t\t\n",
      "^<StemElement\t\t\t(id=122)\t\t\t\t\t\t\t\t\t\t\t\n",
      "^<topElement\t\t\t(id=40)\t\t\t\t\t\t\t\t\t\t\t\n",
      "\t+sheath\t\t\t(id=41)\t\t\t\t\t\t\t\t\t\t\n",
      "\t^/baseElement\t\t\t(id=42)\t\t\t\t\t\t\t\t\t\t\n",
      "\t^<HiddenElement\t\t\t(id=125)\t\t\t\t\t\t\t\t\t\t\n",
      "\t^<StemElement\t\t\t(id=124)\t\t\t\t\t\t\t\t\t\t\n",
      "\t^<topElement\t\t\t(id=43)\t\t\t\t\t\t\t\t\t\t\n",
      "\t^<blade\t\t\t(id=44)\t\t\t\t\t\t\t\t\t\t\n",
      "\t^/baseElement\t\t\t(id=45)\t\t\t\t\t\t\t\t\t\t\n",
      "\t^<HiddenElement\t\t\t(id=126)\t\t\t\t\t\t\t\t\t\t\n",
      "\t^<LeafElement1\t\t\t(id=160)\t\t\t\t\t\t\t\t\t\t\n",
      "\t^<topElement\t\t\t(id=46)\t\t\t\t\t\t\t\t\t\t\n",
      "^<metamer5\t\t\t(id=47)\t\t\t\t\t\t\t\t\t\t\t\n",
      "^/internode\t\t\t(id=48)\t\t\t\t\t\t\t\t\t\t\t\n",
      "^/baseElement\t\t\t(id=49)\t\t\t\t\t\t\t\t\t\t\t\n",
      "^<HiddenElement\t\t\t(id=128)\t\t\t\t\t\t\t\t\t\t\t\n",
      "^<StemElement\t\t\t(id=127)\t\t\t\t\t\t\t\t\t\t\t\n",
      "^<topElement\t\t\t(id=50)\t\t\t\t\t\t\t\t\t\t\t\n",
      "\t+sheath\t\t\t(id=51)\t\t\t\t\t\t\t\t\t\t\n",
      "\t^/baseElement\t\t\t(id=52)\t\t\t\t\t\t\t\t\t\t\n",
      "\t^<HiddenElement\t\t\t(id=130)\t\t\t\t\t\t\t\t\t\t\n",
      "\t^<StemElement\t\t\t(id=129)\t\t\t\t\t\t\t\t\t\t\n",
      "\t^<topElement\t\t\t(id=53)\t\t\t\t\t\t\t\t\t\t\n",
      "\t^<blade\t\t\t(id=54)\t\t\t\t\t\t\t\t\t\t\n",
      "\t^/baseElement\t\t\t(id=55)\t\t\t\t\t\t\t\t\t\t\n",
      "\t^<HiddenElement\t\t\t(id=131)\t\t\t\t\t\t\t\t\t\t\n",
      "\t^<LeafElement1\t\t\t(id=176)\t\t\t\t\t\t\t\t\t\t\n",
      "\t^<topElement\t\t\t(id=56)\t\t\t\t\t\t\t\t\t\t\n",
      "^<metamer6\t\t\t(id=57)\t\t\t\t\t\t\t\t\t\t\t\n",
      "^/internode\t\t\t(id=58)\t\t\t\t\t\t\t\t\t\t\t\n",
      "^/baseElement\t\t\t(id=59)\t\t\t\t\t\t\t\t\t\t\t\n",
      "^<HiddenElement\t\t\t(id=133)\t\t\t\t\t\t\t\t\t\t\t\n",
      "^<StemElement\t\t\t(id=132)\t\t\t\t\t\t\t\t\t\t\t\n",
      "^<topElement\t\t\t(id=60)\t\t\t\t\t\t\t\t\t\t\t\n",
      "\t+sheath\t\t\t(id=61)\t\t\t\t\t\t\t\t\t\t\n",
      "\t^/baseElement\t\t\t(id=62)\t\t\t\t\t\t\t\t\t\t\n",
      "\t^<HiddenElement\t\t\t(id=135)\t\t\t\t\t\t\t\t\t\t\n",
      "\t^<StemElement\t\t\t(id=134)\t\t\t\t\t\t\t\t\t\t\n",
      "\t^<topElement\t\t\t(id=63)\t\t\t\t\t\t\t\t\t\t\n",
      "\t^<blade\t\t\t(id=64)\t\t\t\t\t\t\t\t\t\t\n",
      "\t^/baseElement\t\t\t(id=65)\t\t\t\t\t\t\t\t\t\t\n",
      "\t^<HiddenElement\t\t\t(id=136)\t\t\t\t\t\t\t\t\t\t\n",
      "\t^<LeafElement1\t\t\t(id=177)\t\t\t\t\t\t\t\t\t\t\n",
      "\t^<topElement\t\t\t(id=66)\t\t\t\t\t\t\t\t\t\t\n",
      "^<metamer7\t\t\t(id=67)\t\t\t\t\t\t\t\t\t\t\t\n",
      "^/internode\t\t\t(id=68)\t\t\t\t\t\t\t\t\t\t\t\n",
      "^/baseElement\t\t\t(id=69)\t\t\t\t\t\t\t\t\t\t\t\n",
      "^<HiddenElement\t\t\t(id=138)\t\t\t\t\t\t\t\t\t\t\t\n",
      "^<StemElement\t\t\t(id=137)\t\t\t\t\t\t\t\t\t\t\t\n",
      "^<topElement\t\t\t(id=70)\t\t\t\t\t\t\t\t\t\t\t\n",
      "\t+sheath\t\t\t(id=71)\t\t\t\t\t\t\t\t\t\t\n",
      "\t^/baseElement\t\t\t(id=72)\t\t\t\t\t\t\t\t\t\t\n",
      "\t^<HiddenElement\t\t\t(id=140)\t\t\t\t\t\t\t\t\t\t\n",
      "\t^<StemElement\t\t\t(id=139)\t\t\t\t\t\t\t\t\t\t\n",
      "\t^<topElement\t\t\t(id=73)\t\t\t\t\t\t\t\t\t\t\n",
      "\t^<blade\t\t\t(id=74)\t\t\t\t\t\t\t\t\t\t\n",
      "\t^/baseElement\t\t\t(id=75)\t\t\t\t\t\t\t\t\t\t\n",
      "\t^<HiddenElement\t\t\t(id=141)\t\t\t\t\t\t\t\t\t\t\n",
      "\t^<topElement\t\t\t(id=76)\t\t\t\t\t\t\t\t\t\t\n",
      "^<metamer8\t\t\t(id=77)\t\t\t\t\t\t\t\t\t\t\t\n",
      "^/internode\t\t\t(id=78)\t\t\t\t\t\t\t\t\t\t\t\n",
      "^/baseElement\t\t\t(id=79)\t\t\t\t\t\t\t\t\t\t\t\n",
      "^<HiddenElement\t\t\t(id=143)\t\t\t\t\t\t\t\t\t\t\t\n",
      "^<StemElement\t\t\t(id=142)\t\t\t\t\t\t\t\t\t\t\t\n",
      "^<topElement\t\t\t(id=80)\t\t\t\t\t\t\t\t\t\t\t\n",
      "\t+sheath\t\t\t(id=81)\t\t\t\t\t\t\t\t\t\t\n",
      "\t^/baseElement\t\t\t(id=82)\t\t\t\t\t\t\t\t\t\t\n",
      "\t^<HiddenElement\t\t\t(id=145)\t\t\t\t\t\t\t\t\t\t\n",
      "\t^<StemElement\t\t\t(id=144)\t\t\t\t\t\t\t\t\t\t\n",
      "\t^<topElement\t\t\t(id=83)\t\t\t\t\t\t\t\t\t\t\n",
      "\t^<blade\t\t\t(id=84)\t\t\t\t\t\t\t\t\t\t\n",
      "\t^/baseElement\t\t\t(id=85)\t\t\t\t\t\t\t\t\t\t\n",
      "\t^<HiddenElement\t\t\t(id=146)\t\t\t\t\t\t\t\t\t\t\n",
      "\t^<topElement\t\t\t(id=86)\t\t\t\t\t\t\t\t\t\t\n",
      "^<metamer9\t\t\t(id=87)\t\t\t\t\t\t\t\t\t\t\t\n",
      "^/internode\t\t\t(id=88)\t\t\t\t\t\t\t\t\t\t\t\n",
      "^/baseElement\t\t\t(id=89)\t\t\t\t\t\t\t\t\t\t\t\n",
      "^<HiddenElement\t\t\t(id=148)\t\t\t\t\t\t\t\t\t\t\t\n",
      "^<StemElement\t\t\t(id=147)\t\t\t\t\t\t\t\t\t\t\t\n",
      "^<topElement\t\t\t(id=90)\t\t\t\t\t\t\t\t\t\t\t\n",
      "\t+sheath\t\t\t(id=91)\t\t\t\t\t\t\t\t\t\t\n",
      "\t^/baseElement\t\t\t(id=92)\t\t\t\t\t\t\t\t\t\t\n",
      "\t^<HiddenElement\t\t\t(id=150)\t\t\t\t\t\t\t\t\t\t\n",
      "\t^<StemElement\t\t\t(id=149)\t\t\t\t\t\t\t\t\t\t\n",
      "\t^<topElement\t\t\t(id=93)\t\t\t\t\t\t\t\t\t\t\n",
      "\t^<blade\t\t\t(id=94)\t\t\t\t\t\t\t\t\t\t\n",
      "\t^/baseElement\t\t\t(id=95)\t\t\t\t\t\t\t\t\t\t\n",
      "\t^<HiddenElement\t\t\t(id=151)\t\t\t\t\t\t\t\t\t\t\n",
      "\t^<topElement\t\t\t(id=96)\t\t\t\t\t\t\t\t\t\t\n",
      "^<metamer10\t\t\t(id=97)\t\t\t\t\t\t\t\t\t\t\t\n",
      "^/internode\t\t\t(id=98)\t\t\t\t\t\t\t\t\t\t\t\n",
      "^/baseElement\t\t\t(id=99)\t\t\t\t\t\t\t\t\t\t\t\n",
      "^<HiddenElement\t\t\t(id=153)\t\t\t\t\t\t\t\t\t\t\t\n",
      "^<StemElement\t\t\t(id=152)\t\t\t\t\t\t\t\t\t\t\t\n",
      "^<topElement\t\t\t(id=100)\t\t\t\t\t\t\t\t\t\t\t\n",
      "\t+sheath\t\t\t(id=101)\t\t\t\t\t\t\t\t\t\t\n",
      "\t^/baseElement\t\t\t(id=102)\t\t\t\t\t\t\t\t\t\t\n",
      "\t^<HiddenElement\t\t\t(id=155)\t\t\t\t\t\t\t\t\t\t\n",
      "\t^<StemElement\t\t\t(id=154)\t\t\t\t\t\t\t\t\t\t\n",
      "\t^<topElement\t\t\t(id=103)\t\t\t\t\t\t\t\t\t\t\n",
      "\t^<blade\t\t\t(id=104)\t\t\t\t\t\t\t\t\t\t\n",
      "\t^/baseElement\t\t\t(id=105)\t\t\t\t\t\t\t\t\t\t\n",
      "\t^<HiddenElement\t\t\t(id=156)\t\t\t\t\t\t\t\t\t\t\n",
      "\t^<topElement\t\t\t(id=106)\t\t\t\t\t\t\t\t\t\t\n",
      "^<metamer11\t\t\t(id=161)\t\t\t\t\t\t\t\t\t\t\t\n",
      "^/internode\t\t\t(id=162)\t\t\t\t\t\t\t\t\t\t\t\n",
      "^/baseElement\t\t\t(id=163)\t\t\t\t\t\t\t\t\t\t\t\n",
      "^<HiddenElement\t\t\t(id=172)\t\t\t\t\t\t\t\t\t\t\t\n",
      "^<StemElement\t\t\t(id=171)\t\t\t\t\t\t\t\t\t\t\t\n",
      "^<topElement\t\t\t(id=164)\t\t\t\t\t\t\t\t\t\t\t\n",
      "\t+sheath\t\t\t(id=165)\t\t\t\t\t\t\t\t\t\t\n",
      "\t^/baseElement\t\t\t(id=166)\t\t\t\t\t\t\t\t\t\t\n",
      "\t^<HiddenElement\t\t\t(id=174)\t\t\t\t\t\t\t\t\t\t\n",
      "\t^<StemElement\t\t\t(id=173)\t\t\t\t\t\t\t\t\t\t\n",
      "\t^<topElement\t\t\t(id=167)\t\t\t\t\t\t\t\t\t\t\n",
      "\t^<blade\t\t\t(id=168)\t\t\t\t\t\t\t\t\t\t\n",
      "\t^/baseElement\t\t\t(id=169)\t\t\t\t\t\t\t\t\t\t\n",
      "\t^<HiddenElement\t\t\t(id=175)\t\t\t\t\t\t\t\t\t\t\n",
      "\t^<topElement\t\t\t(id=170)\t\t\t\t\t\t\t\t\t\t\n"
     ]
    }
   ],
   "source": [
    "g.display()"
   ]
  },
  {
   "cell_type": "markdown",
   "id": "12858963-a197-4f1a-bfb1-53d7915dd969",
   "metadata": {},
   "source": [
    "# Plantgl Exercise"
   ]
  },
  {
   "cell_type": "code",
   "execution_count": 1,
   "id": "e68cd992-b847-4abb-af48-7c1c47d7a338",
   "metadata": {},
   "outputs": [],
   "source": [
    "import numpy as np\n",
    "from openalea.plantgl.all import *"
   ]
  },
  {
   "cell_type": "code",
   "execution_count": 2,
   "id": "a7463206-9f37-4909-a7a0-f5dc0d6c729f",
   "metadata": {},
   "outputs": [],
   "source": [
    "def quad_cyl(radius, height, slices = 12):\n",
    "    points = []\n",
    "    indices = []\n",
    "    for i in range(slices):\n",
    "        points += [(radius*np.cos(2*i*np.pi/slices), radius*np.sin(2*i*np.pi/slices), 0),\n",
    "                   (radius*np.cos(2*i*np.pi/slices), radius*np.sin(2*i*np.pi/slices), height)]\n",
    "        \n",
    "        if i is not (slices-1):\n",
    "            indices += [(2*i, 2*i+1, 2*i+3, 2*i+2)]\n",
    "        else:\n",
    "            indices += [(2*i, 2*i+1, 1, 0)]\n",
    "            \n",
    "    cyl = QuadSet(points, indices)\n",
    "    return cyl"
   ]
  },
  {
   "cell_type": "code",
   "execution_count": 3,
   "id": "54040394-d5eb-474f-987d-20cb4e5b9220",
   "metadata": {},
   "outputs": [
    {
     "data": {
      "text/plain": [
       "1"
      ]
     },
     "execution_count": 3,
     "metadata": {},
     "output_type": "execute_result"
    }
   ],
   "source": [
    "cyl1 = quad_cyl(1,4)\n",
    "cyl2 = Translated(-4,0,0,quad_cyl(1,4,6))\n",
    "cyl3 = Translated(4,0,0, quad_cyl(1,4,3))\n",
    "\n",
    "m1 = Material(Color3(150,0,0))\n",
    "m2 = Material(Color3(0,150,0))\n",
    "m3 = Material(Color3(0,0,150))\n",
    "\n",
    "shapes = [Shape(cyl1, m1), Shape(cyl2,m2), Shape(cyl3, m3)]\n",
    "Viewer.display(Scene(shapes))\n",
    "Viewer.waitSelection()"
   ]
  },
  {
   "cell_type": "markdown",
   "id": "bbf7ba18-e39f-4a4e-a016-806dd8dae832",
   "metadata": {},
   "source": [
    "# Caribu Exercise"
   ]
  },
  {
   "cell_type": "code",
   "execution_count": 1,
   "id": "35e3b85b-a656-436a-b908-6a11ab5ca524",
   "metadata": {},
   "outputs": [],
   "source": [
    "import openalea.plantgl.all as pgl\n",
    "from alinea.caribu.CaribuScene import CaribuScene\n",
    "from alinea.caribu.data_samples import data_path"
   ]
  },
  {
   "cell_type": "code",
   "execution_count": 2,
   "id": "5793cc6f-5acf-46f8-aacb-ca4daf2a0969",
   "metadata": {},
   "outputs": [],
   "source": [
    "can = str(data_path('f331s1_100plantes.can'))\n",
    "sky = str(data_path('Turtle16soc.light'))\n",
    "opts = list(map(str, [data_path('par.opt'), data_path('nir.opt')]))"
   ]
  },
  {
   "cell_type": "code",
   "execution_count": 3,
   "id": "4ae87466-132f-4999-aa07-115c353d7221",
   "metadata": {},
   "outputs": [],
   "source": [
    "cs = CaribuScene(scene=can, light=sky, opt=opts, debug=True)#, pattern=(xs_min-5, ys_min-5, xs_max+5, ys_max+5))"
   ]
  },
  {
   "cell_type": "code",
   "execution_count": 6,
   "id": "24327f0b-dee0-4358-b847-d36070164393",
   "metadata": {
    "tags": []
   },
   "outputs": [],
   "source": [
    "# extract the domain of the current scene.\n",
    "import numpy as np\n",
    "xs_min = ys_min = np.inf\n",
    "xs_max = ys_max = -np.inf\n",
    "for element in list(cs.scene.values()):\n",
    "    for primitive in element:\n",
    "        xs,ys,zs = list(zip(*primitive))\n",
    "        if xs_min>np.min(xs):\n",
    "            xs_min = np.min(xs)\n",
    "        if ys_min>np.min(ys):\n",
    "            ys_min = np.min(ys)\n",
    "        if xs_max<np.max(xs):\n",
    "            xs_max = np.max(xs)\n",
    "        if ys_max<np.max(ys):\n",
    "            ys_max = np.max(ys)"
   ]
  },
  {
   "cell_type": "code",
   "execution_count": 4,
   "id": "208d0344-a08e-43ae-a60c-8beca8039293",
   "metadata": {
    "collapsed": true,
    "jupyter": {
     "outputs_hidden": true
    },
    "tags": []
   },
   "outputs": [
    {
     "name": "stdout",
     "output_type": "stream",
     "text": [
      "Prepare scene 16\n",
      "done\n",
      "\n",
      " >>>> Caribu.__init__ starts...\n",
      "\n",
      "\n",
      " <<<< Caribu.__init__ ends...\n",
      "\n",
      "\n",
      " >>>> Caribu.run() starts...\n",
      "\n",
      "\n",
      ">>> Caribu state in  Caribu::init()\n",
      "<<<<\n",
      "\n",
      "\n",
      "band0\n",
      ">>> Canestrad(): canestrad -M cscene.can -l sky.light -p band0.opt -A   -1     -L 1536  \n",
      ">>> caribu.py: Caribu::canestra (band0) finished !\n",
      "\n",
      " <<<< Caribu.run() ends...\n",
      "\n",
      "Caribu.__del__ called, tmp dir kept: ./Run-tmp\n"
     ]
    }
   ],
   "source": [
    "raw,agg=cs.run(simplify=True, direct=True, infinite=False)"
   ]
  },
  {
   "cell_type": "code",
   "execution_count": 5,
   "id": "6d1058d7-21ed-4dd9-bc95-cf2092760280",
   "metadata": {},
   "outputs": [],
   "source": [
    "scene,values = cs.plot(raw['par']['Eabs'],display=False)\n",
    "import numpy as np\n",
    "v99 = np.percentile(values, 99)\n",
    "nvalues=np.array(values)\n",
    "nvalues[nvalues>v99]=v99\n",
    "values = nvalues.tolist()"
   ]
  },
  {
   "cell_type": "code",
   "execution_count": 6,
   "id": "4dd7971f-d3c7-446d-8945-2deaa8763825",
   "metadata": {
    "tags": []
   },
   "outputs": [
    {
     "data": {
      "application/vnd.jupyter.widget-view+json": {
       "model_id": "850c2b67232c47a687ef0cee41c9a398",
       "version_major": 2,
       "version_minor": 0
      },
      "text/plain": [
       "Plot(antialias=3, axes=['x', 'y', 'z'], axes_helper=1.0, axes_helper_colors=[16711680, 65280, 255], background…"
      ]
     },
     "execution_count": 6,
     "metadata": {},
     "output_type": "execute_result"
    }
   ],
   "source": [
    "from oawidgets.plantgl import *\n",
    "PlantGL(scene, group_by_color=False, property=values)"
   ]
  },
  {
   "cell_type": "code",
   "execution_count": 34,
   "id": "ce7c478e-c56a-4193-b0a2-ae1cb63a8199",
   "metadata": {},
   "outputs": [
    {
     "data": {
      "text/plain": [
       "<mpl_toolkits.mplot3d.art3d.Path3DCollection at 0x28925f3b448>"
      ]
     },
     "execution_count": 34,
     "metadata": {},
     "output_type": "execute_result"
    },
    {
     "data": {
      "image/png": "[encoded data removed]",
      "text/plain": [
       "<Figure size 640x480 with 1 Axes>"
      ]
     },
     "metadata": {},
     "output_type": "display_data"
    }
   ],
   "source": [
    "import matplotlib.pyplot as plt\n",
    "import numpy as np\n",
    "\n",
    "fig = plt.figure()\n",
    "ax = fig.add_subplot(111, projection='3d')\n",
    "value_0448 = [0.2764, 0.8506, -0.4473]\n",
    "value_0108 = [0.4912,0.3568,-0.7946]\n",
    "value_0177 = [0.7947, 0.5774, -0.1876]\n",
    "ax.quiver(*([-v for v in value_0177]), *value_0177, length=0.5, normalize=False)\n",
    "ax.quiver(*([-v for v in value_0448]), *value_0448,  length=0.5, normalize=False, linestyle='-.')\n",
    "ax.quiver(*[-0.8944,0,0.4473], *[0.8944,0,-0.4473],  length=0.5, normalize=False, linestyle='-.')\n",
    "ax.quiver(*([-v for v in value_0108]), *value_0108, length=0.5, normalize=False, linestyle='--')\n",
    "\n",
    "\n",
    "ax.scatter(0,0,0,'+')"
   ]
  },
  {
   "cell_type": "code",
   "execution_count": null,
   "id": "e82335ae-68d5-45a6-8717-2e506ce9dc7a",
   "metadata": {},
   "outputs": [],
   "source": []
  }
 ],
 "metadata": {
  "kernelspec": {
   "display_name": "WheatFspm",
   "language": "python",
   "name": "wheatfspm"
  },
  "language_info": {
   "codemirror_mode": {
    "name": "ipython",
    "version": 3
   },
   "file_extension": ".py",
   "mimetype": "text/x-python",
   "name": "python",
   "nbconvert_exporter": "python",
   "pygments_lexer": "ipython3",
   "version": "3.7.12"
  }
 },
 "nbformat": 4,
 "nbformat_minor": 5
}
