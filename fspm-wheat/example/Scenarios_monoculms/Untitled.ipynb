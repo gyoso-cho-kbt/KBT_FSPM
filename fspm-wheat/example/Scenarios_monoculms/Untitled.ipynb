{
 "cells": [
  {
   "cell_type": "code",
   "execution_count": 1,
   "id": "b5ffdcc2-f39f-401f-841d-6682631e3f0d",
   "metadata": {},
   "outputs": [],
   "source": [
    "from alinea.adel.adel_dynamic import AdelDyn\n",
    "from openalea.plantgl.all import Viewer, Scene\n",
    "from openalea.mtg import MTG\n",
    "import os\n",
    "from alinea.adel.geometric_elements import Leaves\n",
    "from alinea.adel.newmtg import internode_elements, sheath_elements, blade_elements, convert, properties_from_dict, adel_metamer\n",
    "import pandas as pd"
   ]
  },
  {
   "cell_type": "code",
   "execution_count": 2,
   "id": "307863c4-19f8-4ffb-94da-37ec872088af",
   "metadata": {},
   "outputs": [],
   "source": [
    "INPUTS_DIRPATH = 'inputs'\n",
    "# Create AdelDyn object and empty mtg\n",
    "adel_wheat = AdelDyn()\n",
    "ADELWHEAT_INPUTS_DIRPATH = os.path.join('outputs')\n",
    "g = adel_wheat.load(dir=ADELWHEAT_INPUTS_DIRPATH)"
   ]
  },
  {
   "cell_type": "code",
   "execution_count": 60,
   "id": "909aeec3-2a48-481d-a8b6-834329a4b180",
   "metadata": {
    "tags": []
   },
   "outputs": [
    {
     "data": {
      "text/plain": [
       "[1]"
      ]
     },
     "execution_count": 60,
     "metadata": {},
     "output_type": "execute_result"
    }
   ],
   "source": [
    "g.vertices(1)"
   ]
  },
  {
   "cell_type": "code",
   "execution_count": 76,
   "id": "f10f048f-d224-4c77-a5cc-485b09a4d261",
   "metadata": {},
   "outputs": [
    {
     "name": "stdout",
     "output_type": "stream",
     "text": [
      "['plant1', 'MS', 'metamer0', 'collar', 'baseElement']\n"
     ]
    }
   ],
   "source": [
    "vtxList = [k for k,v in g.property('edge_type').items() if v=='/']\n",
    "names = [ g.property('label')[vid] for vid in vtxList ]\n",
    "print(names)"
   ]
  },
  {
   "cell_type": "code",
   "execution_count": 3,
   "id": "f1c32d41-7d32-4244-8181-faf87630db2e",
   "metadata": {
    "collapsed": true,
    "jupyter": {
     "outputs_hidden": true
    },
    "tags": []
   },
   "outputs": [
    {
     "name": "stdout",
     "output_type": "stream",
     "text": [
      "MTG : nb_vertices=178, nb_scales=6\n",
      "/plant1\t\t\t(id=1)\t\t\t\t\t\t\t\t\t\t\t\n",
      "^/MS\t\t\t(id=2)\t\t\t\t\t\t\t\t\t\t\t\n",
      "^/metamer0\t\t\t(id=3)\t\t\t\t\t\t\t\t\t\t\t\n",
      "^/collar\t\t\t(id=4)\t\t\t\t\t\t\t\t\t\t\t\n",
      "^/baseElement\t\t\t(id=5)\t\t\t\t\t\t\t\t\t\t\t\n",
      "^<topElement\t\t\t(id=6)\t\t\t\t\t\t\t\t\t\t\t\n",
      "^<metamer1\t\t\t(id=7)\t\t\t\t\t\t\t\t\t\t\t\n",
      "^/internode\t\t\t(id=8)\t\t\t\t\t\t\t\t\t\t\t\n",
      "^/baseElement\t\t\t(id=9)\t\t\t\t\t\t\t\t\t\t\t\n",
      "^<HiddenElement\t\t\t(id=108)\t\t\t\t\t\t\t\t\t\t\t\n",
      "^<StemElement\t\t\t(id=107)\t\t\t\t\t\t\t\t\t\t\t\n",
      "^<topElement\t\t\t(id=10)\t\t\t\t\t\t\t\t\t\t\t\n",
      "\t+sheath\t\t\t(id=11)\t\t\t\t\t\t\t\t\t\t\n",
      "\t^/baseElement\t\t\t(id=12)\t\t\t\t\t\t\t\t\t\t\n",
      "\t^<HiddenElement\t\t\t(id=110)\t\t\t\t\t\t\t\t\t\t\n",
      "\t^<StemElement\t\t\t(id=109)\t\t\t\t\t\t\t\t\t\t\n",
      "\t^<topElement\t\t\t(id=13)\t\t\t\t\t\t\t\t\t\t\n",
      "\t^<blade\t\t\t(id=14)\t\t\t\t\t\t\t\t\t\t\n",
      "\t^/baseElement\t\t\t(id=15)\t\t\t\t\t\t\t\t\t\t\n",
      "\t^<HiddenElement\t\t\t(id=111)\t\t\t\t\t\t\t\t\t\t\n",
      "\t^<LeafElement1\t\t\t(id=157)\t\t\t\t\t\t\t\t\t\t\n",
      "\t^<topElement\t\t\t(id=16)\t\t\t\t\t\t\t\t\t\t\n",
      "^<metamer2\t\t\t(id=17)\t\t\t\t\t\t\t\t\t\t\t\n",
      "^/internode\t\t\t(id=18)\t\t\t\t\t\t\t\t\t\t\t\n",
      "^/baseElement\t\t\t(id=19)\t\t\t\t\t\t\t\t\t\t\t\n",
      "^<HiddenElement\t\t\t(id=113)\t\t\t\t\t\t\t\t\t\t\t\n",
      "^<StemElement\t\t\t(id=112)\t\t\t\t\t\t\t\t\t\t\t\n",
      "^<topElement\t\t\t(id=20)\t\t\t\t\t\t\t\t\t\t\t\n",
      "\t+sheath\t\t\t(id=21)\t\t\t\t\t\t\t\t\t\t\n",
      "\t^/baseElement\t\t\t(id=22)\t\t\t\t\t\t\t\t\t\t\n",
      "\t^<HiddenElement\t\t\t(id=115)\t\t\t\t\t\t\t\t\t\t\n",
      "\t^<StemElement\t\t\t(id=114)\t\t\t\t\t\t\t\t\t\t\n",
      "\t^<topElement\t\t\t(id=23)\t\t\t\t\t\t\t\t\t\t\n",
      "\t^<blade\t\t\t(id=24)\t\t\t\t\t\t\t\t\t\t\n",
      "\t^/baseElement\t\t\t(id=25)\t\t\t\t\t\t\t\t\t\t\n",
      "\t^<HiddenElement\t\t\t(id=116)\t\t\t\t\t\t\t\t\t\t\n",
      "\t^<LeafElement1\t\t\t(id=158)\t\t\t\t\t\t\t\t\t\t\n",
      "\t^<topElement\t\t\t(id=26)\t\t\t\t\t\t\t\t\t\t\n",
      "^<metamer3\t\t\t(id=27)\t\t\t\t\t\t\t\t\t\t\t\n",
      "^/internode\t\t\t(id=28)\t\t\t\t\t\t\t\t\t\t\t\n",
      "^/baseElement\t\t\t(id=29)\t\t\t\t\t\t\t\t\t\t\t\n",
      "^<HiddenElement\t\t\t(id=118)\t\t\t\t\t\t\t\t\t\t\t\n",
      "^<StemElement\t\t\t(id=117)\t\t\t\t\t\t\t\t\t\t\t\n",
      "^<topElement\t\t\t(id=30)\t\t\t\t\t\t\t\t\t\t\t\n",
      "\t+sheath\t\t\t(id=31)\t\t\t\t\t\t\t\t\t\t\n",
      "\t^/baseElement\t\t\t(id=32)\t\t\t\t\t\t\t\t\t\t\n",
      "\t^<HiddenElement\t\t\t(id=120)\t\t\t\t\t\t\t\t\t\t\n",
      "\t^<StemElement\t\t\t(id=119)\t\t\t\t\t\t\t\t\t\t\n",
      "\t^<topElement\t\t\t(id=33)\t\t\t\t\t\t\t\t\t\t\n",
      "\t^<blade\t\t\t(id=34)\t\t\t\t\t\t\t\t\t\t\n",
      "\t^/baseElement\t\t\t(id=35)\t\t\t\t\t\t\t\t\t\t\n",
      "\t^<HiddenElement\t\t\t(id=121)\t\t\t\t\t\t\t\t\t\t\n",
      "\t^<LeafElement1\t\t\t(id=159)\t\t\t\t\t\t\t\t\t\t\n",
      "\t^<topElement\t\t\t(id=36)\t\t\t\t\t\t\t\t\t\t\n",
      "^<metamer4\t\t\t(id=37)\t\t\t\t\t\t\t\t\t\t\t\n",
      "^/internode\t\t\t(id=38)\t\t\t\t\t\t\t\t\t\t\t\n",
      "^/baseElement\t\t\t(id=39)\t\t\t\t\t\t\t\t\t\t\t\n",
      "^<HiddenElement\t\t\t(id=123)\t\t\t\t\t\t\t\t\t\t\t\n",
      "^<StemElement\t\t\t(id=122)\t\t\t\t\t\t\t\t\t\t\t\n",
      "^<topElement\t\t\t(id=40)\t\t\t\t\t\t\t\t\t\t\t\n",
      "\t+sheath\t\t\t(id=41)\t\t\t\t\t\t\t\t\t\t\n",
      "\t^/baseElement\t\t\t(id=42)\t\t\t\t\t\t\t\t\t\t\n",
      "\t^<HiddenElement\t\t\t(id=125)\t\t\t\t\t\t\t\t\t\t\n",
      "\t^<StemElement\t\t\t(id=124)\t\t\t\t\t\t\t\t\t\t\n",
      "\t^<topElement\t\t\t(id=43)\t\t\t\t\t\t\t\t\t\t\n",
      "\t^<blade\t\t\t(id=44)\t\t\t\t\t\t\t\t\t\t\n",
      "\t^/baseElement\t\t\t(id=45)\t\t\t\t\t\t\t\t\t\t\n",
      "\t^<HiddenElement\t\t\t(id=126)\t\t\t\t\t\t\t\t\t\t\n",
      "\t^<LeafElement1\t\t\t(id=160)\t\t\t\t\t\t\t\t\t\t\n",
      "\t^<topElement\t\t\t(id=46)\t\t\t\t\t\t\t\t\t\t\n",
      "^<metamer5\t\t\t(id=47)\t\t\t\t\t\t\t\t\t\t\t\n",
      "^/internode\t\t\t(id=48)\t\t\t\t\t\t\t\t\t\t\t\n",
      "^/baseElement\t\t\t(id=49)\t\t\t\t\t\t\t\t\t\t\t\n",
      "^<HiddenElement\t\t\t(id=128)\t\t\t\t\t\t\t\t\t\t\t\n",
      "^<StemElement\t\t\t(id=127)\t\t\t\t\t\t\t\t\t\t\t\n",
      "^<topElement\t\t\t(id=50)\t\t\t\t\t\t\t\t\t\t\t\n",
      "\t+sheath\t\t\t(id=51)\t\t\t\t\t\t\t\t\t\t\n",
      "\t^/baseElement\t\t\t(id=52)\t\t\t\t\t\t\t\t\t\t\n",
      "\t^<HiddenElement\t\t\t(id=130)\t\t\t\t\t\t\t\t\t\t\n",
      "\t^<StemElement\t\t\t(id=129)\t\t\t\t\t\t\t\t\t\t\n",
      "\t^<topElement\t\t\t(id=53)\t\t\t\t\t\t\t\t\t\t\n",
      "\t^<blade\t\t\t(id=54)\t\t\t\t\t\t\t\t\t\t\n",
      "\t^/baseElement\t\t\t(id=55)\t\t\t\t\t\t\t\t\t\t\n",
      "\t^<HiddenElement\t\t\t(id=131)\t\t\t\t\t\t\t\t\t\t\n",
      "\t^<LeafElement1\t\t\t(id=176)\t\t\t\t\t\t\t\t\t\t\n",
      "\t^<topElement\t\t\t(id=56)\t\t\t\t\t\t\t\t\t\t\n",
      "^<metamer6\t\t\t(id=57)\t\t\t\t\t\t\t\t\t\t\t\n",
      "^/internode\t\t\t(id=58)\t\t\t\t\t\t\t\t\t\t\t\n",
      "^/baseElement\t\t\t(id=59)\t\t\t\t\t\t\t\t\t\t\t\n",
      "^<HiddenElement\t\t\t(id=133)\t\t\t\t\t\t\t\t\t\t\t\n",
      "^<StemElement\t\t\t(id=132)\t\t\t\t\t\t\t\t\t\t\t\n",
      "^<topElement\t\t\t(id=60)\t\t\t\t\t\t\t\t\t\t\t\n",
      "\t+sheath\t\t\t(id=61)\t\t\t\t\t\t\t\t\t\t\n",
      "\t^/baseElement\t\t\t(id=62)\t\t\t\t\t\t\t\t\t\t\n",
      "\t^<HiddenElement\t\t\t(id=135)\t\t\t\t\t\t\t\t\t\t\n",
      "\t^<StemElement\t\t\t(id=134)\t\t\t\t\t\t\t\t\t\t\n",
      "\t^<topElement\t\t\t(id=63)\t\t\t\t\t\t\t\t\t\t\n",
      "\t^<blade\t\t\t(id=64)\t\t\t\t\t\t\t\t\t\t\n",
      "\t^/baseElement\t\t\t(id=65)\t\t\t\t\t\t\t\t\t\t\n",
      "\t^<HiddenElement\t\t\t(id=136)\t\t\t\t\t\t\t\t\t\t\n",
      "\t^<LeafElement1\t\t\t(id=177)\t\t\t\t\t\t\t\t\t\t\n",
      "\t^<topElement\t\t\t(id=66)\t\t\t\t\t\t\t\t\t\t\n",
      "^<metamer7\t\t\t(id=67)\t\t\t\t\t\t\t\t\t\t\t\n",
      "^/internode\t\t\t(id=68)\t\t\t\t\t\t\t\t\t\t\t\n",
      "^/baseElement\t\t\t(id=69)\t\t\t\t\t\t\t\t\t\t\t\n",
      "^<HiddenElement\t\t\t(id=138)\t\t\t\t\t\t\t\t\t\t\t\n",
      "^<StemElement\t\t\t(id=137)\t\t\t\t\t\t\t\t\t\t\t\n",
      "^<topElement\t\t\t(id=70)\t\t\t\t\t\t\t\t\t\t\t\n",
      "\t+sheath\t\t\t(id=71)\t\t\t\t\t\t\t\t\t\t\n",
      "\t^/baseElement\t\t\t(id=72)\t\t\t\t\t\t\t\t\t\t\n",
      "\t^<HiddenElement\t\t\t(id=140)\t\t\t\t\t\t\t\t\t\t\n",
      "\t^<StemElement\t\t\t(id=139)\t\t\t\t\t\t\t\t\t\t\n",
      "\t^<topElement\t\t\t(id=73)\t\t\t\t\t\t\t\t\t\t\n",
      "\t^<blade\t\t\t(id=74)\t\t\t\t\t\t\t\t\t\t\n",
      "\t^/baseElement\t\t\t(id=75)\t\t\t\t\t\t\t\t\t\t\n",
      "\t^<HiddenElement\t\t\t(id=141)\t\t\t\t\t\t\t\t\t\t\n",
      "\t^<topElement\t\t\t(id=76)\t\t\t\t\t\t\t\t\t\t\n",
      "^<metamer8\t\t\t(id=77)\t\t\t\t\t\t\t\t\t\t\t\n",
      "^/internode\t\t\t(id=78)\t\t\t\t\t\t\t\t\t\t\t\n",
      "^/baseElement\t\t\t(id=79)\t\t\t\t\t\t\t\t\t\t\t\n",
      "^<HiddenElement\t\t\t(id=143)\t\t\t\t\t\t\t\t\t\t\t\n",
      "^<StemElement\t\t\t(id=142)\t\t\t\t\t\t\t\t\t\t\t\n",
      "^<topElement\t\t\t(id=80)\t\t\t\t\t\t\t\t\t\t\t\n",
      "\t+sheath\t\t\t(id=81)\t\t\t\t\t\t\t\t\t\t\n",
      "\t^/baseElement\t\t\t(id=82)\t\t\t\t\t\t\t\t\t\t\n",
      "\t^<HiddenElement\t\t\t(id=145)\t\t\t\t\t\t\t\t\t\t\n",
      "\t^<StemElement\t\t\t(id=144)\t\t\t\t\t\t\t\t\t\t\n",
      "\t^<topElement\t\t\t(id=83)\t\t\t\t\t\t\t\t\t\t\n",
      "\t^<blade\t\t\t(id=84)\t\t\t\t\t\t\t\t\t\t\n",
      "\t^/baseElement\t\t\t(id=85)\t\t\t\t\t\t\t\t\t\t\n",
      "\t^<HiddenElement\t\t\t(id=146)\t\t\t\t\t\t\t\t\t\t\n",
      "\t^<topElement\t\t\t(id=86)\t\t\t\t\t\t\t\t\t\t\n",
      "^<metamer9\t\t\t(id=87)\t\t\t\t\t\t\t\t\t\t\t\n",
      "^/internode\t\t\t(id=88)\t\t\t\t\t\t\t\t\t\t\t\n",
      "^/baseElement\t\t\t(id=89)\t\t\t\t\t\t\t\t\t\t\t\n",
      "^<HiddenElement\t\t\t(id=148)\t\t\t\t\t\t\t\t\t\t\t\n",
      "^<StemElement\t\t\t(id=147)\t\t\t\t\t\t\t\t\t\t\t\n",
      "^<topElement\t\t\t(id=90)\t\t\t\t\t\t\t\t\t\t\t\n",
      "\t+sheath\t\t\t(id=91)\t\t\t\t\t\t\t\t\t\t\n",
      "\t^/baseElement\t\t\t(id=92)\t\t\t\t\t\t\t\t\t\t\n",
      "\t^<HiddenElement\t\t\t(id=150)\t\t\t\t\t\t\t\t\t\t\n",
      "\t^<StemElement\t\t\t(id=149)\t\t\t\t\t\t\t\t\t\t\n",
      "\t^<topElement\t\t\t(id=93)\t\t\t\t\t\t\t\t\t\t\n",
      "\t^<blade\t\t\t(id=94)\t\t\t\t\t\t\t\t\t\t\n",
      "\t^/baseElement\t\t\t(id=95)\t\t\t\t\t\t\t\t\t\t\n",
      "\t^<HiddenElement\t\t\t(id=151)\t\t\t\t\t\t\t\t\t\t\n",
      "\t^<topElement\t\t\t(id=96)\t\t\t\t\t\t\t\t\t\t\n",
      "^<metamer10\t\t\t(id=97)\t\t\t\t\t\t\t\t\t\t\t\n",
      "^/internode\t\t\t(id=98)\t\t\t\t\t\t\t\t\t\t\t\n",
      "^/baseElement\t\t\t(id=99)\t\t\t\t\t\t\t\t\t\t\t\n",
      "^<HiddenElement\t\t\t(id=153)\t\t\t\t\t\t\t\t\t\t\t\n",
      "^<StemElement\t\t\t(id=152)\t\t\t\t\t\t\t\t\t\t\t\n",
      "^<topElement\t\t\t(id=100)\t\t\t\t\t\t\t\t\t\t\t\n",
      "\t+sheath\t\t\t(id=101)\t\t\t\t\t\t\t\t\t\t\n",
      "\t^/baseElement\t\t\t(id=102)\t\t\t\t\t\t\t\t\t\t\n",
      "\t^<HiddenElement\t\t\t(id=155)\t\t\t\t\t\t\t\t\t\t\n",
      "\t^<StemElement\t\t\t(id=154)\t\t\t\t\t\t\t\t\t\t\n",
      "\t^<topElement\t\t\t(id=103)\t\t\t\t\t\t\t\t\t\t\n",
      "\t^<blade\t\t\t(id=104)\t\t\t\t\t\t\t\t\t\t\n",
      "\t^/baseElement\t\t\t(id=105)\t\t\t\t\t\t\t\t\t\t\n",
      "\t^<HiddenElement\t\t\t(id=156)\t\t\t\t\t\t\t\t\t\t\n",
      "\t^<topElement\t\t\t(id=106)\t\t\t\t\t\t\t\t\t\t\n",
      "^<metamer11\t\t\t(id=161)\t\t\t\t\t\t\t\t\t\t\t\n",
      "^/internode\t\t\t(id=162)\t\t\t\t\t\t\t\t\t\t\t\n",
      "^/baseElement\t\t\t(id=163)\t\t\t\t\t\t\t\t\t\t\t\n",
      "^<HiddenElement\t\t\t(id=172)\t\t\t\t\t\t\t\t\t\t\t\n",
      "^<StemElement\t\t\t(id=171)\t\t\t\t\t\t\t\t\t\t\t\n",
      "^<topElement\t\t\t(id=164)\t\t\t\t\t\t\t\t\t\t\t\n",
      "\t+sheath\t\t\t(id=165)\t\t\t\t\t\t\t\t\t\t\n",
      "\t^/baseElement\t\t\t(id=166)\t\t\t\t\t\t\t\t\t\t\n",
      "\t^<HiddenElement\t\t\t(id=174)\t\t\t\t\t\t\t\t\t\t\n",
      "\t^<StemElement\t\t\t(id=173)\t\t\t\t\t\t\t\t\t\t\n",
      "\t^<topElement\t\t\t(id=167)\t\t\t\t\t\t\t\t\t\t\n",
      "\t^<blade\t\t\t(id=168)\t\t\t\t\t\t\t\t\t\t\n",
      "\t^/baseElement\t\t\t(id=169)\t\t\t\t\t\t\t\t\t\t\n",
      "\t^<HiddenElement\t\t\t(id=175)\t\t\t\t\t\t\t\t\t\t\n",
      "\t^<topElement\t\t\t(id=170)\t\t\t\t\t\t\t\t\t\t\n"
     ]
    }
   ],
   "source": [
    "g.display()"
   ]
  },
  {
   "cell_type": "code",
   "execution_count": null,
   "id": "e807b53d-9279-492e-9c19-8a74ae52b2e2",
   "metadata": {},
   "outputs": [],
   "source": []
  }
 ],
 "metadata": {
  "kernelspec": {
   "display_name": "WheatFspm",
   "language": "python",
   "name": "wheatfspm"
  },
  "language_info": {
   "codemirror_mode": {
    "name": "ipython",
    "version": 3
   },
   "file_extension": ".py",
   "mimetype": "text/x-python",
   "name": "python",
   "nbconvert_exporter": "python",
   "pygments_lexer": "ipython3",
   "version": "3.7.12"
  }
 },
 "nbformat": 4,
 "nbformat_minor": 5
}
