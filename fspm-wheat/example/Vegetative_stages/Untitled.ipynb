{
 "cells": [
  {
   "cell_type": "code",
   "execution_count": 1,
   "id": "3043f280-83b1-4db1-8e63-2c3cd585e907",
   "metadata": {},
   "outputs": [],
   "source": [
    "from alinea.adel.adel_dynamic import AdelDyn\n",
    "from openalea.plantgl.all import Viewer, Scene\n",
    "from openalea.mtg import MTG\n",
    "import os\n",
    "from alinea.adel.geometric_elements import Leaves\n",
    "from alinea.adel.newmtg import internode_elements, sheath_elements, blade_elements, convert, properties_from_dict, adel_metamer"
   ]
  },
  {
   "cell_type": "code",
   "execution_count": 15,
   "id": "57d9100c-051f-4f2f-903d-a648c344ad6c",
   "metadata": {},
   "outputs": [],
   "source": [
    "adel_wheat = AdelDyn()\n",
    "INPUTS_DIRPATH = 'inputs'\n",
    "g = adel_wheat.load(dir=INPUTS_DIRPATH)"
   ]
  },
  {
   "cell_type": "code",
   "execution_count": null,
   "id": "3308ce7b-05e0-4bb5-8d7a-82423d7801f8",
   "metadata": {},
   "outputs": [],
   "source": []
  },
  {
   "cell_type": "code",
   "execution_count": null,
   "id": "c64cc618-59aa-4840-b755-b7208f2ea3e3",
   "metadata": {},
   "outputs": [],
   "source": []
  }
 ],
 "metadata": {
  "kernelspec": {
   "display_name": "WheatFspm",
   "language": "python",
   "name": "wheatfspm"
  },
  "language_info": {
   "codemirror_mode": {
    "name": "ipython",
    "version": 3
   },
   "file_extension": ".py",
   "mimetype": "text/x-python",
   "name": "python",
   "nbconvert_exporter": "python",
   "pygments_lexer": "ipython3",
   "version": "3.7.12"
  }
 },
 "nbformat": 4,
 "nbformat_minor": 5
}
